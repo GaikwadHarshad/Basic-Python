{
 "cells": [
  {
   "cell_type": "code",
   "execution_count": 1,
   "metadata": {},
   "outputs": [
    {
     "name": "stderr",
     "output_type": "stream",
     "text": [
      "Using TensorFlow backend.\n"
     ]
    }
   ],
   "source": [
    "# import keras libraries and packages\n",
    "from keras.models import Sequential\n",
    "from keras.layers import Convolution2D\n",
    "from keras.layers import MaxPooling2D\n",
    "from keras.layers import Flatten\n",
    "from keras.layers import Dense\n",
    "import numpy\n",
    "import matplotlib.pyplot as plt\n",
    "from tensorflow.keras.preprocessing import image\n",
    "import warnings\n",
    "warnings.filterwarnings('ignore')"
   ]
  },
  {
   "cell_type": "markdown",
   "metadata": {},
   "source": [
    "# Building CNN"
   ]
  },
  {
   "cell_type": "code",
   "execution_count": 2,
   "metadata": {},
   "outputs": [],
   "source": [
    "# initializing cnn \n",
    "classifier = Sequential()"
   ]
  },
  {
   "cell_type": "code",
   "execution_count": 3,
   "metadata": {},
   "outputs": [
    {
     "name": "stdout",
     "output_type": "stream",
     "text": [
      "WARNING:tensorflow:From /home/admin1/.local/lib/python3.6/site-packages/tensorflow/python/framework/op_def_library.py:263: colocate_with (from tensorflow.python.framework.ops) is deprecated and will be removed in a future version.\n",
      "Instructions for updating:\n",
      "Colocations handled automatically by placer.\n"
     ]
    }
   ],
   "source": [
    "# convolutional layers\n",
    "classifier.add(Convolution2D(32,3,3, input_shape=(64,64,3),activation ='relu'))"
   ]
  },
  {
   "cell_type": "code",
   "execution_count": 4,
   "metadata": {},
   "outputs": [],
   "source": [
    "# max pooling\n",
    "# reduce complexity of features without reducing performance\n",
    "classifier.add(MaxPooling2D(pool_size=(2,2)))"
   ]
  },
  {
   "cell_type": "code",
   "execution_count": 5,
   "metadata": {},
   "outputs": [],
   "source": [
    "# classifier.add(Convolution2D(32,3,3, activation ='relu'))\n",
    "# classifier.add(MaxPooling2D(pool_size=(2,2)))"
   ]
  },
  {
   "cell_type": "code",
   "execution_count": 6,
   "metadata": {},
   "outputs": [],
   "source": [
    "# flattening\n",
    "classifier.add(Flatten())"
   ]
  },
  {
   "cell_type": "code",
   "execution_count": 7,
   "metadata": {},
   "outputs": [],
   "source": [
    "# full connection\n",
    "classifier.add(Dense(output_dim = 128,activation='relu'))\n",
    "classifier.add(Dense(output_dim = 1,activation='sigmoid'))"
   ]
  },
  {
   "cell_type": "code",
   "execution_count": 8,
   "metadata": {},
   "outputs": [],
   "source": [
    "# compiling the cnn\n",
    "classifier.compile(optimizer='adam',loss='binary_crossentropy',metrics=['accuracy'])"
   ]
  },
  {
   "cell_type": "markdown",
   "metadata": {},
   "source": [
    "# Fitting CNN to the images"
   ]
  },
  {
   "cell_type": "code",
   "execution_count": 9,
   "metadata": {},
   "outputs": [
    {
     "name": "stdout",
     "output_type": "stream",
     "text": [
      "Found 8000 images belonging to 2 classes.\n",
      "Found 2000 images belonging to 2 classes.\n",
      "WARNING:tensorflow:From /home/admin1/.local/lib/python3.6/site-packages/tensorflow/python/ops/math_ops.py:3066: to_int32 (from tensorflow.python.ops.math_ops) is deprecated and will be removed in a future version.\n",
      "Instructions for updating:\n",
      "Use tf.cast instead.\n",
      "Epoch 1/10\n",
      "25/25 [==============================] - 15s 587ms/step - loss: 0.8871 - acc: 0.5437 - val_loss: 0.6770 - val_acc: 0.5729\n",
      "Epoch 2/10\n",
      "25/25 [==============================] - 13s 519ms/step - loss: 0.6878 - acc: 0.5513 - val_loss: 0.6711 - val_acc: 0.5938\n",
      "Epoch 3/10\n",
      "25/25 [==============================] - 13s 514ms/step - loss: 0.6537 - acc: 0.5913 - val_loss: 0.6181 - val_acc: 0.6687\n",
      "Epoch 4/10\n",
      "25/25 [==============================] - 13s 527ms/step - loss: 0.6113 - acc: 0.6613 - val_loss: 0.5847 - val_acc: 0.6479\n",
      "Epoch 5/10\n",
      "25/25 [==============================] - 9s 375ms/step - loss: 0.6290 - acc: 0.6375 - val_loss: 0.6345 - val_acc: 0.6164\n",
      "Epoch 6/10\n",
      "25/25 [==============================] - 9s 377ms/step - loss: 0.6142 - acc: 0.6675 - val_loss: 0.5549 - val_acc: 0.7500\n",
      "Epoch 7/10\n",
      "25/25 [==============================] - 9s 356ms/step - loss: 0.6097 - acc: 0.6500 - val_loss: 0.6942 - val_acc: 0.5729\n",
      "Epoch 8/10\n",
      "25/25 [==============================] - 9s 379ms/step - loss: 0.6212 - acc: 0.6562 - val_loss: 0.5749 - val_acc: 0.7229\n",
      "Epoch 9/10\n",
      "25/25 [==============================] - 9s 379ms/step - loss: 0.6016 - acc: 0.6750 - val_loss: 0.6287 - val_acc: 0.6185\n",
      "Epoch 10/10\n",
      "25/25 [==============================] - 10s 390ms/step - loss: 0.5950 - acc: 0.6675 - val_loss: 0.5741 - val_acc: 0.7271\n"
     ]
    },
    {
     "data": {
      "text/plain": [
       "<keras.callbacks.History at 0x7f325e294fd0>"
      ]
     },
     "execution_count": 9,
     "metadata": {},
     "output_type": "execute_result"
    }
   ],
   "source": [
    "from keras.preprocessing.image import ImageDataGenerator\n",
    "train_datagen = ImageDataGenerator(\n",
    "        rescale=1./255,\n",
    "        shear_range=0.2,\n",
    "        zoom_range=0.2,\n",
    "        horizontal_flip=True)\n",
    "\n",
    "test_datagen = ImageDataGenerator(rescale=1./255)\n",
    "# setting train data\n",
    "train_set = train_datagen.flow_from_directory(\n",
    "                                        '/home/admin1/Machine Learning/CNN/datasets/training_set',\n",
    "                                        target_size=(64, 64),\n",
    "                                        batch_size=32,\n",
    "                                        class_mode='binary')\n",
    "# setting test data\n",
    "test_set = test_datagen.flow_from_directory(\n",
    "                                        '/home/admin1/Machine Learning/CNN/datasets/test_set',\n",
    "                                        target_size=(64, 64),\n",
    "                                        batch_size=32,\n",
    "                                        class_mode='binary')\n",
    "\n",
    "classifier.fit_generator(train_set,\n",
    "                        steps_per_epoch=25,\n",
    "                        epochs=10,\n",
    "                        validation_data=test_set,\n",
    "                        validation_steps=15)"
   ]
  },
  {
   "cell_type": "code",
   "execution_count": null,
   "metadata": {},
   "outputs": [],
   "source": []
  },
  {
   "cell_type": "code",
   "execution_count": 10,
   "metadata": {},
   "outputs": [],
   "source": [
    "\n",
    "testdata = image.load_img('/home/admin1/Machine Learning/CNN/datasets/test_set/dogs/dog.4036.jpg', target_size = (64, 64))\n",
    "testdata = numpy.expand_dims(testdata,axis=0)\n",
    "prediction  = classifier.predict(testdata,batch_size=None,steps=1)"
   ]
  },
  {
   "cell_type": "code",
   "execution_count": null,
   "metadata": {},
   "outputs": [],
   "source": []
  },
  {
   "cell_type": "code",
   "execution_count": 11,
   "metadata": {},
   "outputs": [
    {
     "name": "stdout",
     "output_type": "stream",
     "text": [
      "dog\n"
     ]
    }
   ],
   "source": [
    "if(prediction[:,:]>0.5):\n",
    "    print('dog')\n",
    "else:\n",
    "    print('cat')"
   ]
  },
  {
   "cell_type": "code",
   "execution_count": 12,
   "metadata": {},
   "outputs": [],
   "source": [
    "# saving model\n",
    "import pickle\n",
    "model =  open('training.pkl','wb')\n",
    "pickle.dump(classifier,model)\n",
    "pickle.dump(test_datagen,model)\n",
    "model.close()"
   ]
  }
 ],
 "metadata": {
  "kernelspec": {
   "display_name": "Python 3",
   "language": "python",
   "name": "python3"
  },
  "language_info": {
   "codemirror_mode": {
    "name": "ipython",
    "version": 3
   },
   "file_extension": ".py",
   "mimetype": "text/x-python",
   "name": "python",
   "nbconvert_exporter": "python",
   "pygments_lexer": "ipython3",
   "version": "3.6.8"
  }
 },
 "nbformat": 4,
 "nbformat_minor": 2
}
