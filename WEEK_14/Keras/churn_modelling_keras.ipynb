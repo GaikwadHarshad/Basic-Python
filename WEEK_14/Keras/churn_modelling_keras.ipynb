{
 "cells": [
  {
   "cell_type": "markdown",
   "metadata": {},
   "source": [
    "# Artificial Neural Network"
   ]
  },
  {
   "cell_type": "markdown",
   "metadata": {},
   "source": [
    "# DataPreprocessing "
   ]
  },
  {
   "cell_type": "code",
   "execution_count": 37,
   "metadata": {},
   "outputs": [],
   "source": [
    "# import all the libraries\n",
    "import numpy as np\n",
    "import  pandas as pd\n",
    "import matplotlib.pyplot as plt\n",
    "import keras\n",
    "import pickle\n",
    "from  keras.models import Sequential\n",
    "from sklearn.metrics import  *\n",
    "from keras.layers import Dense\n",
    "from sklearn.metrics import  confusion_matrix\n",
    "from sklearn.preprocessing import LabelEncoder,OneHotEncoder\n",
    "from sklearn.model_selection import train_test_split\n",
    "from sklearn.preprocessing import StandardScaler\n",
    "import warnings\n",
    "warnings.filterwarnings('ignore',category=DeprecationWarning)"
   ]
  },
  {
   "cell_type": "code",
   "execution_count": 38,
   "metadata": {},
   "outputs": [],
   "source": [
    "# import dataset\n",
    "dataset = pd.read_csv('Data/Churn_Modelling.csv')"
   ]
  },
  {
   "cell_type": "code",
   "execution_count": 39,
   "metadata": {},
   "outputs": [
    {
     "data": {
      "text/html": [
       "<div>\n",
       "<style scoped>\n",
       "    .dataframe tbody tr th:only-of-type {\n",
       "        vertical-align: middle;\n",
       "    }\n",
       "\n",
       "    .dataframe tbody tr th {\n",
       "        vertical-align: top;\n",
       "    }\n",
       "\n",
       "    .dataframe thead th {\n",
       "        text-align: right;\n",
       "    }\n",
       "</style>\n",
       "<table border=\"1\" class=\"dataframe\">\n",
       "  <thead>\n",
       "    <tr style=\"text-align: right;\">\n",
       "      <th></th>\n",
       "      <th>RowNumber</th>\n",
       "      <th>CustomerId</th>\n",
       "      <th>Surname</th>\n",
       "      <th>CreditScore</th>\n",
       "      <th>Geography</th>\n",
       "      <th>Gender</th>\n",
       "      <th>Age</th>\n",
       "      <th>Tenure</th>\n",
       "      <th>Balance</th>\n",
       "      <th>NumOfProducts</th>\n",
       "      <th>HasCrCard</th>\n",
       "      <th>IsActiveMember</th>\n",
       "      <th>EstimatedSalary</th>\n",
       "      <th>Exited</th>\n",
       "    </tr>\n",
       "  </thead>\n",
       "  <tbody>\n",
       "    <tr>\n",
       "      <th>0</th>\n",
       "      <td>1</td>\n",
       "      <td>15634602</td>\n",
       "      <td>Hargrave</td>\n",
       "      <td>619</td>\n",
       "      <td>France</td>\n",
       "      <td>Female</td>\n",
       "      <td>42</td>\n",
       "      <td>2</td>\n",
       "      <td>0.00</td>\n",
       "      <td>1</td>\n",
       "      <td>1</td>\n",
       "      <td>1</td>\n",
       "      <td>101348.88</td>\n",
       "      <td>1</td>\n",
       "    </tr>\n",
       "    <tr>\n",
       "      <th>1</th>\n",
       "      <td>2</td>\n",
       "      <td>15647311</td>\n",
       "      <td>Hill</td>\n",
       "      <td>608</td>\n",
       "      <td>Spain</td>\n",
       "      <td>Female</td>\n",
       "      <td>41</td>\n",
       "      <td>1</td>\n",
       "      <td>83807.86</td>\n",
       "      <td>1</td>\n",
       "      <td>0</td>\n",
       "      <td>1</td>\n",
       "      <td>112542.58</td>\n",
       "      <td>0</td>\n",
       "    </tr>\n",
       "    <tr>\n",
       "      <th>2</th>\n",
       "      <td>3</td>\n",
       "      <td>15619304</td>\n",
       "      <td>Onio</td>\n",
       "      <td>502</td>\n",
       "      <td>France</td>\n",
       "      <td>Female</td>\n",
       "      <td>42</td>\n",
       "      <td>8</td>\n",
       "      <td>159660.80</td>\n",
       "      <td>3</td>\n",
       "      <td>1</td>\n",
       "      <td>0</td>\n",
       "      <td>113931.57</td>\n",
       "      <td>1</td>\n",
       "    </tr>\n",
       "    <tr>\n",
       "      <th>3</th>\n",
       "      <td>4</td>\n",
       "      <td>15701354</td>\n",
       "      <td>Boni</td>\n",
       "      <td>699</td>\n",
       "      <td>France</td>\n",
       "      <td>Female</td>\n",
       "      <td>39</td>\n",
       "      <td>1</td>\n",
       "      <td>0.00</td>\n",
       "      <td>2</td>\n",
       "      <td>0</td>\n",
       "      <td>0</td>\n",
       "      <td>93826.63</td>\n",
       "      <td>0</td>\n",
       "    </tr>\n",
       "    <tr>\n",
       "      <th>4</th>\n",
       "      <td>5</td>\n",
       "      <td>15737888</td>\n",
       "      <td>Mitchell</td>\n",
       "      <td>850</td>\n",
       "      <td>Spain</td>\n",
       "      <td>Female</td>\n",
       "      <td>43</td>\n",
       "      <td>2</td>\n",
       "      <td>125510.82</td>\n",
       "      <td>1</td>\n",
       "      <td>1</td>\n",
       "      <td>1</td>\n",
       "      <td>79084.10</td>\n",
       "      <td>0</td>\n",
       "    </tr>\n",
       "  </tbody>\n",
       "</table>\n",
       "</div>"
      ],
      "text/plain": [
       "   RowNumber  CustomerId   Surname  CreditScore Geography  Gender  Age  \\\n",
       "0          1    15634602  Hargrave          619    France  Female   42   \n",
       "1          2    15647311      Hill          608     Spain  Female   41   \n",
       "2          3    15619304      Onio          502    France  Female   42   \n",
       "3          4    15701354      Boni          699    France  Female   39   \n",
       "4          5    15737888  Mitchell          850     Spain  Female   43   \n",
       "\n",
       "   Tenure    Balance  NumOfProducts  HasCrCard  IsActiveMember  \\\n",
       "0       2       0.00              1          1               1   \n",
       "1       1   83807.86              1          0               1   \n",
       "2       8  159660.80              3          1               0   \n",
       "3       1       0.00              2          0               0   \n",
       "4       2  125510.82              1          1               1   \n",
       "\n",
       "   EstimatedSalary  Exited  \n",
       "0        101348.88       1  \n",
       "1        112542.58       0  \n",
       "2        113931.57       1  \n",
       "3         93826.63       0  \n",
       "4         79084.10       0  "
      ]
     },
     "execution_count": 39,
     "metadata": {},
     "output_type": "execute_result"
    }
   ],
   "source": [
    "dataset.head()"
   ]
  },
  {
   "cell_type": "code",
   "execution_count": 40,
   "metadata": {},
   "outputs": [],
   "source": [
    "# split dataset into train and test\n",
    "train,test  = train_test_split(dataset,test_size=0.2,random_state=0)"
   ]
  },
  {
   "cell_type": "code",
   "execution_count": 41,
   "metadata": {},
   "outputs": [],
   "source": [
    "# saving test data into seperate file\n",
    "# file = open('Test_data/test.pkl','wb')\n",
    "# pickle.dump(test,file)\n",
    "# file.close()\n",
    "test.to_csv('Test_data/test_file.csv',index=False,encoding='utf-8')"
   ]
  },
  {
   "cell_type": "code",
   "execution_count": 42,
   "metadata": {},
   "outputs": [],
   "source": [
    "# split train data into train and cross validation \n",
    "train_data,cross_val = train_test_split(train,test_size=0.2,random_state=0)"
   ]
  },
  {
   "cell_type": "code",
   "execution_count": 43,
   "metadata": {},
   "outputs": [],
   "source": [
    "# seperating features and labels from dataset\n",
    "# Credit Score through Estimated Salary\n",
    "x_train = train_data.iloc[:,3:13].values\n",
    "# Exited\n",
    "y_train = train_data.iloc[:,13].values"
   ]
  },
  {
   "cell_type": "code",
   "execution_count": 44,
   "metadata": {},
   "outputs": [
    {
     "data": {
      "text/plain": [
       "((6400, 10), (6400,))"
      ]
     },
     "execution_count": 44,
     "metadata": {},
     "output_type": "execute_result"
    }
   ],
   "source": [
    "x_train.shape,y_train.shape"
   ]
  },
  {
   "cell_type": "markdown",
   "metadata": {},
   "source": [
    "The Problem here is that we are treating the countries as one variable with ordinal values (0 < 1 < 2). Therefore, one way to get rid of that problem is to split the countries into respective dimensions."
   ]
  },
  {
   "cell_type": "code",
   "execution_count": 45,
   "metadata": {},
   "outputs": [
    {
     "name": "stderr",
     "output_type": "stream",
     "text": [
      "/home/admin1/Downloads/Enter/envs/my_env/lib/python3.7/site-packages/sklearn/preprocessing/_encoders.py:371: FutureWarning: The handling of integer data will change in version 0.22. Currently, the categories are determined based on the range [0, max(values)], while in the future they will be determined based on the unique values.\n",
      "If you want the future behaviour and silence this warning, you can specify \"categories='auto'\".\n",
      "In case you used a LabelEncoder before this OneHotEncoder to convert the categories to integers, then you can now use the OneHotEncoder directly.\n",
      "  warnings.warn(msg, FutureWarning)\n"
     ]
    }
   ],
   "source": [
    "def categorical_encode(x):\n",
    "    # Encoding categorical data country\n",
    "    labelencoder_x_country = LabelEncoder()\n",
    "    x[:,1] = labelencoder_x_country.fit_transform(x[:,1])\n",
    "    # Encode categorical data gender\n",
    "    labelencoder_x_gender = LabelEncoder()\n",
    "    x[:,2]  =  labelencoder_x_gender.fit_transform(x[:,2])\n",
    "    ohe_country = OneHotEncoder(categorical_features=[1])\n",
    "    x = ohe_country.fit_transform(x).toarray()\n",
    "    x = x[:, 1:]\n",
    "    return x\n",
    "\n",
    "x_train = categorical_encode(x_train)"
   ]
  },
  {
   "cell_type": "code",
   "execution_count": 46,
   "metadata": {},
   "outputs": [],
   "source": [
    "# seperating features and labels from cross val\n",
    "# Credit Score through Estimated Salary\n",
    "x_cv = cross_val.iloc[:,3:13].values\n",
    "# Exited\n",
    "y_cv = cross_val.iloc[:,13].values"
   ]
  },
  {
   "cell_type": "code",
   "execution_count": 47,
   "metadata": {},
   "outputs": [
    {
     "name": "stderr",
     "output_type": "stream",
     "text": [
      "/home/admin1/Downloads/Enter/envs/my_env/lib/python3.7/site-packages/sklearn/preprocessing/_encoders.py:371: FutureWarning: The handling of integer data will change in version 0.22. Currently, the categories are determined based on the range [0, max(values)], while in the future they will be determined based on the unique values.\n",
      "If you want the future behaviour and silence this warning, you can specify \"categories='auto'\".\n",
      "In case you used a LabelEncoder before this OneHotEncoder to convert the categories to integers, then you can now use the OneHotEncoder directly.\n",
      "  warnings.warn(msg, FutureWarning)\n"
     ]
    }
   ],
   "source": [
    "# one hot encoding on cross validation\n",
    "x_cv = categorical_encode(x_cv)"
   ]
  },
  {
   "cell_type": "code",
   "execution_count": 48,
   "metadata": {},
   "outputs": [],
   "source": [
    "# Feature scaling on independent variables\n",
    "def feature_scaling(x_data):\n",
    "    sc = StandardScaler()\n",
    "    x_data = sc.fit_transform(x_data)\n",
    "    return x_data,sc"
   ]
  },
  {
   "cell_type": "code",
   "execution_count": 49,
   "metadata": {},
   "outputs": [],
   "source": [
    "# scaling on train data\n",
    "x_train,sc_train = feature_scaling(x_train)"
   ]
  },
  {
   "cell_type": "code",
   "execution_count": 50,
   "metadata": {},
   "outputs": [],
   "source": [
    "# scaling on cross val\n",
    "x_cv,sc_cv = feature_scaling(x_cv)"
   ]
  },
  {
   "cell_type": "code",
   "execution_count": 51,
   "metadata": {},
   "outputs": [
    {
     "data": {
      "text/plain": [
       "((6400, 11), (6400,), (1600, 11), (1600,))"
      ]
     },
     "execution_count": 51,
     "metadata": {},
     "output_type": "execute_result"
    }
   ],
   "source": [
    "x_train.shape,y_train.shape,x_cv.shape,y_cv.shape"
   ]
  },
  {
   "cell_type": "markdown",
   "metadata": {},
   "source": [
    "# ANN using Keras"
   ]
  },
  {
   "cell_type": "code",
   "execution_count": 52,
   "metadata": {},
   "outputs": [],
   "source": [
    "# initialize ANN\n",
    "classifier = Sequential()"
   ]
  },
  {
   "cell_type": "markdown",
   "metadata": {},
   "source": [
    "The breakdown of the inputs for the first layer is as follows:\n",
    "\n",
    "activiation:relu\n",
    "       becasue we are in an input layer. uses the ReLu activation function for  ϕ \n",
    "input_dim: 11 because we span 11 dimensions in our input layer. This is needed for the first added layer. The subsequent layers's input dimensions can be inferred using the previously added layer's output dimension. The next hidden layer will know what to expect.\n",
    "\n",
    "units: 6 nodes (number of nodes in hidden layer). Can think of this as number of nodes are in the next layer.\n",
    "\n",
    "kernel_initializer: uniform the distribution with which we randomly initialize weights for the nodes in this layer."
   ]
  },
  {
   "cell_type": "code",
   "execution_count": 53,
   "metadata": {},
   "outputs": [],
   "source": [
    "# added first input layer(by specifying input dimensions) and hidden layer(by units)\n",
    "classifier.add(Dense(activation='relu',input_dim=11,units=6, kernel_initializer='uniform'))\n",
    "# We are going to add another layer to this model because we want to implement Deep Learning, \n",
    "# which is an artificial Neural network with many layers.\n",
    "classifier.add(Dense(activation='relu',units=6, kernel_initializer='uniform'))\n",
    "#  Adding the output layer\n",
    "# We use the sigmoid because we want probability outcomes whether customer will stay or exit\n",
    "classifier.add(Dense(activation='sigmoid',units=1,kernel_initializer='uniform'))"
   ]
  },
  {
   "cell_type": "markdown",
   "metadata": {},
   "source": [
    "The breakdown of the inputs for compiling is as follows:\n",
    "    \n",
    "optimizer:\n",
    "    adam The algorithm we want to use to find the optimal set of weights in the neural networks. \n",
    "    Adam is a very efficeint variation of Stochastic Gradient Descent.\n",
    "\n",
    "loss: binary_crossentropy \n",
    "    This is the loss function used within adam. This should be the logarthmic loss. \n",
    "    If our dependent (output variable) is Binary, it is binary_crossentropy.\n",
    "    If Categorical, then it is called categorical_crossentropy\n",
    "\n",
    "metrics: [accuracy] \n",
    "    The accuracy metrics which will be evaluated(minimized) by the model. \n",
    "    Used as accuracy criteria to imporve model performance.\n",
    "\n",
    "kernel_initializer: uniform \n",
    "    the distribution with which we randomly initialize weights for the nodes in this layer."
   ]
  },
  {
   "cell_type": "code",
   "execution_count": 54,
   "metadata": {},
   "outputs": [],
   "source": [
    "# compiling the neural network\n",
    "classifier.compile(optimizer='adam', loss='binary_crossentropy',metrics=['accuracy'])"
   ]
  },
  {
   "cell_type": "code",
   "execution_count": 55,
   "metadata": {},
   "outputs": [
    {
     "name": "stdout",
     "output_type": "stream",
     "text": [
      "Epoch 1/100\n",
      "6400/6400 [==============================] - 1s 109us/step - loss: 0.4987 - acc: 0.7972\n",
      "Epoch 2/100\n",
      "6400/6400 [==============================] - 1s 81us/step - loss: 0.4288 - acc: 0.7973\n",
      "Epoch 3/100\n",
      "6400/6400 [==============================] - 1s 81us/step - loss: 0.4250 - acc: 0.7973\n",
      "Epoch 4/100\n",
      "6400/6400 [==============================] - 1s 82us/step - loss: 0.4205 - acc: 0.8031\n",
      "Epoch 5/100\n",
      "6400/6400 [==============================] - 1s 81us/step - loss: 0.4162 - acc: 0.8239\n",
      "Epoch 6/100\n",
      "6400/6400 [==============================] - 1s 81us/step - loss: 0.4128 - acc: 0.8278\n",
      "Epoch 7/100\n",
      "6400/6400 [==============================] - 0s 77us/step - loss: 0.4102 - acc: 0.8298\n",
      "Epoch 8/100\n",
      "6400/6400 [==============================] - 1s 83us/step - loss: 0.4079 - acc: 0.8308\n",
      "Epoch 9/100\n",
      "6400/6400 [==============================] - 0s 75us/step - loss: 0.4068 - acc: 0.8322\n",
      "Epoch 10/100\n",
      "6400/6400 [==============================] - 1s 78us/step - loss: 0.4046 - acc: 0.8336\n",
      "Epoch 11/100\n",
      "6400/6400 [==============================] - 1s 82us/step - loss: 0.4035 - acc: 0.8333\n",
      "Epoch 12/100\n",
      "6400/6400 [==============================] - 1s 87us/step - loss: 0.4026 - acc: 0.8337\n",
      "Epoch 13/100\n",
      "6400/6400 [==============================] - 1s 85us/step - loss: 0.4011 - acc: 0.8336\n",
      "Epoch 14/100\n",
      "6400/6400 [==============================] - 1s 85us/step - loss: 0.4012 - acc: 0.8337\n",
      "Epoch 15/100\n",
      "6400/6400 [==============================] - 0s 77us/step - loss: 0.4006 - acc: 0.8339\n",
      "Epoch 16/100\n",
      "6400/6400 [==============================] - 1s 89us/step - loss: 0.4001 - acc: 0.8330\n",
      "Epoch 17/100\n",
      "6400/6400 [==============================] - 0s 76us/step - loss: 0.3995 - acc: 0.8352\n",
      "Epoch 18/100\n",
      "6400/6400 [==============================] - 1s 79us/step - loss: 0.3995 - acc: 0.8333\n",
      "Epoch 19/100\n",
      "6400/6400 [==============================] - 0s 76us/step - loss: 0.3986 - acc: 0.8356\n",
      "Epoch 20/100\n",
      "6400/6400 [==============================] - 0s 72us/step - loss: 0.3980 - acc: 0.8347\n",
      "Epoch 21/100\n",
      "6400/6400 [==============================] - 0s 72us/step - loss: 0.3982 - acc: 0.8342\n",
      "Epoch 22/100\n",
      "6400/6400 [==============================] - 0s 70us/step - loss: 0.3975 - acc: 0.8353\n",
      "Epoch 23/100\n",
      "6400/6400 [==============================] - 0s 72us/step - loss: 0.3971 - acc: 0.8339\n",
      "Epoch 24/100\n",
      "6400/6400 [==============================] - 0s 74us/step - loss: 0.3971 - acc: 0.8345\n",
      "Epoch 25/100\n",
      "6400/6400 [==============================] - 1s 84us/step - loss: 0.3969 - acc: 0.8366\n",
      "Epoch 26/100\n",
      "6400/6400 [==============================] - 0s 72us/step - loss: 0.3974 - acc: 0.8348\n",
      "Epoch 27/100\n",
      "6400/6400 [==============================] - 0s 72us/step - loss: 0.3964 - acc: 0.8342\n",
      "Epoch 28/100\n",
      "6400/6400 [==============================] - 0s 75us/step - loss: 0.3962 - acc: 0.8348\n",
      "Epoch 29/100\n",
      "6400/6400 [==============================] - 0s 73us/step - loss: 0.3961 - acc: 0.8352\n",
      "Epoch 30/100\n",
      "6400/6400 [==============================] - 0s 74us/step - loss: 0.3962 - acc: 0.8355\n",
      "Epoch 31/100\n",
      "6400/6400 [==============================] - 0s 75us/step - loss: 0.3951 - acc: 0.8359\n",
      "Epoch 32/100\n",
      "6400/6400 [==============================] - 0s 70us/step - loss: 0.3959 - acc: 0.8352\n",
      "Epoch 33/100\n",
      "6400/6400 [==============================] - 0s 74us/step - loss: 0.3951 - acc: 0.8347\n",
      "Epoch 34/100\n",
      "6400/6400 [==============================] - 0s 74us/step - loss: 0.3950 - acc: 0.8350\n",
      "Epoch 35/100\n",
      "6400/6400 [==============================] - 0s 75us/step - loss: 0.3952 - acc: 0.8353\n",
      "Epoch 36/100\n",
      "6400/6400 [==============================] - 0s 75us/step - loss: 0.3948 - acc: 0.8356\n",
      "Epoch 37/100\n",
      "6400/6400 [==============================] - 0s 74us/step - loss: 0.3944 - acc: 0.8362\n",
      "Epoch 38/100\n",
      "6400/6400 [==============================] - 0s 73us/step - loss: 0.3943 - acc: 0.8355\n",
      "Epoch 39/100\n",
      "6400/6400 [==============================] - 1s 84us/step - loss: 0.3937 - acc: 0.8350\n",
      "Epoch 40/100\n",
      "6400/6400 [==============================] - 0s 75us/step - loss: 0.3934 - acc: 0.8386\n",
      "Epoch 41/100\n",
      "6400/6400 [==============================] - 0s 73us/step - loss: 0.3936 - acc: 0.8367\n",
      "Epoch 42/100\n",
      "6400/6400 [==============================] - 0s 72us/step - loss: 0.3931 - acc: 0.8361\n",
      "Epoch 43/100\n",
      "6400/6400 [==============================] - 0s 75us/step - loss: 0.3931 - acc: 0.8344\n",
      "Epoch 44/100\n",
      "6400/6400 [==============================] - 0s 73us/step - loss: 0.3926 - acc: 0.8359\n",
      "Epoch 45/100\n",
      "6400/6400 [==============================] - 0s 75us/step - loss: 0.3927 - acc: 0.8355\n",
      "Epoch 46/100\n",
      "6400/6400 [==============================] - 0s 73us/step - loss: 0.3923 - acc: 0.8348\n",
      "Epoch 47/100\n",
      "6400/6400 [==============================] - 1s 82us/step - loss: 0.3928 - acc: 0.8353\n",
      "Epoch 48/100\n",
      "6400/6400 [==============================] - 0s 74us/step - loss: 0.3926 - acc: 0.8369\n",
      "Epoch 49/100\n",
      "6400/6400 [==============================] - 0s 75us/step - loss: 0.3922 - acc: 0.8381\n",
      "Epoch 50/100\n",
      "6400/6400 [==============================] - 0s 71us/step - loss: 0.3927 - acc: 0.8367\n",
      "Epoch 51/100\n",
      "6400/6400 [==============================] - 0s 74us/step - loss: 0.3920 - acc: 0.8345\n",
      "Epoch 52/100\n",
      "6400/6400 [==============================] - 0s 74us/step - loss: 0.3922 - acc: 0.8347\n",
      "Epoch 53/100\n",
      "6400/6400 [==============================] - 1s 78us/step - loss: 0.3923 - acc: 0.8345\n",
      "Epoch 54/100\n",
      "6400/6400 [==============================] - 0s 74us/step - loss: 0.3919 - acc: 0.8356\n",
      "Epoch 55/100\n",
      "6400/6400 [==============================] - 0s 72us/step - loss: 0.3914 - acc: 0.8359\n",
      "Epoch 56/100\n",
      "6400/6400 [==============================] - 0s 73us/step - loss: 0.3914 - acc: 0.8350\n",
      "Epoch 57/100\n",
      "6400/6400 [==============================] - 0s 76us/step - loss: 0.3915 - acc: 0.8367\n",
      "Epoch 58/100\n",
      "6400/6400 [==============================] - 1s 82us/step - loss: 0.3906 - acc: 0.8356\n",
      "Epoch 59/100\n",
      "6400/6400 [==============================] - 0s 76us/step - loss: 0.3908 - acc: 0.8356\n",
      "Epoch 60/100\n",
      "6400/6400 [==============================] - 0s 73us/step - loss: 0.3909 - acc: 0.8384\n",
      "Epoch 61/100\n",
      "6400/6400 [==============================] - 1s 79us/step - loss: 0.3896 - acc: 0.8372\n",
      "Epoch 62/100\n",
      "6400/6400 [==============================] - 0s 75us/step - loss: 0.3892 - acc: 0.8386\n",
      "Epoch 63/100\n",
      "6400/6400 [==============================] - 1s 82us/step - loss: 0.3884 - acc: 0.8378\n",
      "Epoch 64/100\n",
      "6400/6400 [==============================] - 0s 72us/step - loss: 0.3875 - acc: 0.8383\n",
      "Epoch 65/100\n",
      "6400/6400 [==============================] - 0s 76us/step - loss: 0.3865 - acc: 0.8373\n",
      "Epoch 66/100\n",
      "6400/6400 [==============================] - 0s 72us/step - loss: 0.3839 - acc: 0.8380\n",
      "Epoch 67/100\n",
      "6400/6400 [==============================] - 0s 75us/step - loss: 0.3828 - acc: 0.8383\n",
      "Epoch 68/100\n",
      "6400/6400 [==============================] - 0s 74us/step - loss: 0.3816 - acc: 0.8400\n",
      "Epoch 69/100\n",
      "6400/6400 [==============================] - 0s 75us/step - loss: 0.3800 - acc: 0.8384\n",
      "Epoch 70/100\n",
      "6400/6400 [==============================] - 0s 71us/step - loss: 0.3784 - acc: 0.8395\n",
      "Epoch 71/100\n",
      "6400/6400 [==============================] - 0s 78us/step - loss: 0.3776 - acc: 0.8394\n",
      "Epoch 72/100\n",
      "6400/6400 [==============================] - 0s 69us/step - loss: 0.3767 - acc: 0.8389\n",
      "Epoch 73/100\n",
      "6400/6400 [==============================] - 0s 72us/step - loss: 0.3762 - acc: 0.8381\n",
      "Epoch 74/100\n",
      "6400/6400 [==============================] - 0s 72us/step - loss: 0.3754 - acc: 0.8417\n",
      "Epoch 75/100\n",
      "6400/6400 [==============================] - 0s 73us/step - loss: 0.3746 - acc: 0.8397\n",
      "Epoch 76/100\n",
      "6400/6400 [==============================] - 0s 75us/step - loss: 0.3738 - acc: 0.8397\n",
      "Epoch 77/100\n",
      "6400/6400 [==============================] - 0s 73us/step - loss: 0.3738 - acc: 0.8395\n",
      "Epoch 78/100\n",
      "6400/6400 [==============================] - 0s 75us/step - loss: 0.3735 - acc: 0.8408\n",
      "Epoch 79/100\n",
      "6400/6400 [==============================] - 0s 71us/step - loss: 0.3733 - acc: 0.8408\n",
      "Epoch 80/100\n",
      "6400/6400 [==============================] - 0s 72us/step - loss: 0.3735 - acc: 0.8389\n",
      "Epoch 81/100\n",
      "6400/6400 [==============================] - 0s 74us/step - loss: 0.3738 - acc: 0.8392\n",
      "Epoch 82/100\n",
      "6400/6400 [==============================] - 1s 79us/step - loss: 0.3730 - acc: 0.8391\n",
      "Epoch 83/100\n"
     ]
    },
    {
     "name": "stdout",
     "output_type": "stream",
     "text": [
      "6400/6400 [==============================] - 0s 73us/step - loss: 0.3732 - acc: 0.8384\n",
      "Epoch 84/100\n",
      "6400/6400 [==============================] - 0s 73us/step - loss: 0.3727 - acc: 0.8377\n",
      "Epoch 85/100\n",
      "6400/6400 [==============================] - 0s 73us/step - loss: 0.3728 - acc: 0.8383\n",
      "Epoch 86/100\n",
      "6400/6400 [==============================] - 0s 77us/step - loss: 0.3722 - acc: 0.8409\n",
      "Epoch 87/100\n",
      "6400/6400 [==============================] - 0s 72us/step - loss: 0.3732 - acc: 0.8380\n",
      "Epoch 88/100\n",
      "6400/6400 [==============================] - 0s 74us/step - loss: 0.3720 - acc: 0.8378\n",
      "Epoch 89/100\n",
      "6400/6400 [==============================] - 0s 72us/step - loss: 0.3725 - acc: 0.8405\n",
      "Epoch 90/100\n",
      "6400/6400 [==============================] - 0s 76us/step - loss: 0.3716 - acc: 0.8381\n",
      "Epoch 91/100\n",
      "6400/6400 [==============================] - 0s 73us/step - loss: 0.3719 - acc: 0.8381\n",
      "Epoch 92/100\n",
      "6400/6400 [==============================] - 0s 75us/step - loss: 0.3717 - acc: 0.8392\n",
      "Epoch 93/100\n",
      "6400/6400 [==============================] - 0s 72us/step - loss: 0.3712 - acc: 0.8381\n",
      "Epoch 94/100\n",
      "6400/6400 [==============================] - 0s 75us/step - loss: 0.3714 - acc: 0.8391\n",
      "Epoch 95/100\n",
      "6400/6400 [==============================] - 0s 74us/step - loss: 0.3717 - acc: 0.8380\n",
      "Epoch 96/100\n",
      "6400/6400 [==============================] - 0s 74us/step - loss: 0.3710 - acc: 0.8408\n",
      "Epoch 97/100\n",
      "6400/6400 [==============================] - 0s 75us/step - loss: 0.3709 - acc: 0.8391\n",
      "Epoch 98/100\n",
      "6400/6400 [==============================] - 0s 75us/step - loss: 0.3718 - acc: 0.8395\n",
      "Epoch 99/100\n",
      "6400/6400 [==============================] - 0s 76us/step - loss: 0.3713 - acc: 0.8395\n",
      "Epoch 100/100\n",
      "6400/6400 [==============================] - 0s 74us/step - loss: 0.3713 - acc: 0.8389\n"
     ]
    },
    {
     "data": {
      "text/plain": [
       "<keras.callbacks.History at 0x7fbe832f6a20>"
      ]
     },
     "execution_count": 55,
     "metadata": {},
     "output_type": "execute_result"
    }
   ],
   "source": [
    "# fitting the ANN to the training set\n",
    "classifier.fit(x_train,y_train,batch_size=10,epochs=100)"
   ]
  },
  {
   "cell_type": "code",
   "execution_count": 61,
   "metadata": {},
   "outputs": [],
   "source": [
    "prediction  = classifier.predict(x_cv)"
   ]
  },
  {
   "cell_type": "code",
   "execution_count": 62,
   "metadata": {},
   "outputs": [],
   "source": [
    "prediction = (prediction > 0.5)"
   ]
  },
  {
   "cell_type": "code",
   "execution_count": 63,
   "metadata": {},
   "outputs": [],
   "source": [
    "matrix = confusion_matrix(y_cv,prediction)"
   ]
  },
  {
   "cell_type": "code",
   "execution_count": 64,
   "metadata": {},
   "outputs": [
    {
     "name": "stdout",
     "output_type": "stream",
     "text": [
      "83.9375 % of cross validation data was classified correctly\n"
     ]
    }
   ],
   "source": [
    "print (accuracy_score(y_cv,prediction)*100,'% of cross validation data was classified correctly')"
   ]
  },
  {
   "cell_type": "code",
   "execution_count": 65,
   "metadata": {},
   "outputs": [],
   "source": [
    "# save model in pickle file\n",
    "with open('pickle/save_model.pkl','wb') as f:\n",
    "    pickle.dump(classifier,f)\n",
    "    pickle.dump(sc_train,f)"
   ]
  },
  {
   "cell_type": "code",
   "execution_count": null,
   "metadata": {},
   "outputs": [],
   "source": []
  }
 ],
 "metadata": {
  "kernelspec": {
   "display_name": "Python 3",
   "language": "python",
   "name": "python3"
  },
  "language_info": {
   "codemirror_mode": {
    "name": "ipython",
    "version": 3
   },
   "file_extension": ".py",
   "mimetype": "text/x-python",
   "name": "python",
   "nbconvert_exporter": "python",
   "pygments_lexer": "ipython3",
   "version": "3.7.2"
  }
 },
 "nbformat": 4,
 "nbformat_minor": 2
}
