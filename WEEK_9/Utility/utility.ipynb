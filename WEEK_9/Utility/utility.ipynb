{
 "cells": [
  {
   "cell_type": "code",
   "execution_count": 1,
   "metadata": {},
   "outputs": [],
   "source": [
    "class utility_model:\n",
    "    def get_libraries(self):\n",
    "        # import libraries\n",
    "        import numpy as  np\n",
    "        import pandas as pd\n",
    "        import matplotlib.pyplot as plt\n",
    "        import sklearn\n",
    "        import warnings\n",
    "        warnings.filterwarnings('ignore')\n",
    "    def  split_data(self,x_data,y_data):\n",
    "        # split dataset into training data and testing data\n",
    "        from sklearn.model_selection import train_test_split\n",
    "        return x_train,x_test,y_train,y_test = train_test_split(x_data,y_data,test_size = 1/3, random_state=0)\n",
    "    \n",
    "# obj = utility_model()"
   ]
  },
  {
   "cell_type": "code",
   "execution_count": null,
   "metadata": {},
   "outputs": [],
   "source": []
  }
 ],
 "metadata": {
  "kernelspec": {
   "display_name": "Python 3",
   "language": "python",
   "name": "python3"
  },
  "language_info": {
   "codemirror_mode": {
    "name": "ipython",
    "version": 3
   },
   "file_extension": ".py",
   "mimetype": "text/x-python",
   "name": "python",
   "nbconvert_exporter": "python",
   "pygments_lexer": "ipython3",
   "version": "3.7.2"
  }
 },
 "nbformat": 4,
 "nbformat_minor": 2
}
