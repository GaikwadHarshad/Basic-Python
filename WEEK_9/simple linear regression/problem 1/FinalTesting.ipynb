{
 "cells": [
  {
   "cell_type": "code",
   "execution_count": 270,
   "metadata": {},
   "outputs": [],
   "source": [
    "# import libraries\n",
    "import numpy as  np\n",
    "import pandas as pd\n",
    "import matplotlib.pyplot as plt\n",
    "import sklearn\n",
    "import warnings\n",
    "warnings.filterwarnings('ignore')"
   ]
  },
  {
   "cell_type": "code",
   "execution_count": 271,
   "metadata": {},
   "outputs": [],
   "source": [
    "# import dataset\n",
    "dataset =  pd.read_csv('/home/admin1/PycharmProjects/Basic Python/myprograms/WEEK_9/simple linear regression/Data/Salary_Data.csv')\n",
    "x = dataset.iloc[:,:-1].values\n",
    "y = dataset.iloc[:,1].values"
   ]
  },
  {
   "cell_type": "code",
   "execution_count": null,
   "metadata": {},
   "outputs": [],
   "source": []
  },
  {
   "cell_type": "code",
   "execution_count": 272,
   "metadata": {},
   "outputs": [],
   "source": [
    "# split dataset into training data and testing data\n",
    "from sklearn.model_selection import train_test_split\n",
    "x_train,x_test,y_train,y_test = train_test_split(x,y,test_size = 0.20, random_state=0)"
   ]
  },
  {
   "cell_type": "code",
   "execution_count": 273,
   "metadata": {},
   "outputs": [],
   "source": [
    "# reading train model pickle file\n",
    "import pickle\n",
    "file = open('training.pkl', 'rb')\n",
    "loaded_file = pickle.load(file)"
   ]
  },
  {
   "cell_type": "code",
   "execution_count": 307,
   "metadata": {},
   "outputs": [],
   "source": [
    "# # cross validation using KFold technique\n",
    "# from sklearn.model_selection import RepeatedKFold\n",
    "# kf = RepeatedKFold(n_splits=5, n_repeats=10, random_state=None)\n",
    "# from sklearn.linear_model import LinearRegression\n",
    "# for train_index, test_index, in kf.split(x_train):\n",
    "# #     print(\"Train:\", train_index, \"Validation:\",test_index)\n",
    "#     X_Train, X_Test = x[train_index], x[test_index]\n",
    "#     Y_Train, y_test = y[train_index], y[test_index]\n",
    "#     regressor.fit(X_Train,Y_Train)\n",
    "#     y_pred_test = regressor.predict(X_Test)\n",
    "#     wt=regressor.coef_\n",
    "#     print(wt)\n",
    "#     print(\"y test:\",y_test.shape)\n",
    "#     print(\"y pred:\",y_pred_test.shape)\n",
    "#     test_accuraccy = sklearn.metrics.r2_score(y_test,y_pred_test)*100\n",
    "#     print(\"Accuracy of test data =\",  test_accuraccy)"
   ]
  },
  {
   "cell_type": "code",
   "execution_count": 275,
   "metadata": {},
   "outputs": [
    {
     "data": {
      "text/plain": [
       "(20, 1)"
      ]
     },
     "execution_count": 275,
     "metadata": {},
     "output_type": "execute_result"
    }
   ],
   "source": [
    "X_train.shape"
   ]
  },
  {
   "cell_type": "code",
   "execution_count": 276,
   "metadata": {},
   "outputs": [
    {
     "data": {
      "text/plain": [
       "(4, 1)"
      ]
     },
     "execution_count": 276,
     "metadata": {},
     "output_type": "execute_result"
    }
   ],
   "source": [
    "X_test.shape"
   ]
  },
  {
   "cell_type": "code",
   "execution_count": null,
   "metadata": {},
   "outputs": [],
   "source": []
  },
  {
   "cell_type": "code",
   "execution_count": 277,
   "metadata": {},
   "outputs": [],
   "source": [
    "# predicting the test set result\n",
    "y_pred_test = loaded_file.predict(X_Test)"
   ]
  },
  {
   "cell_type": "code",
   "execution_count": null,
   "metadata": {},
   "outputs": [],
   "source": [
    "regressor."
   ]
  },
  {
   "cell_type": "code",
   "execution_count": 278,
   "metadata": {},
   "outputs": [
    {
     "name": "stdout",
     "output_type": "stream",
     "text": [
      "[47377.2656189  65134.55626083 68872.93323808 74480.49870396]\n"
     ]
    }
   ],
   "source": [
    "print(y_pred_test)"
   ]
  },
  {
   "cell_type": "code",
   "execution_count": 279,
   "metadata": {},
   "outputs": [],
   "source": [
    "# predicting the train set result \n",
    "y_pred_train = loaded_file.predict(X_Train)"
   ]
  },
  {
   "cell_type": "code",
   "execution_count": 280,
   "metadata": {},
   "outputs": [
    {
     "name": "stdout",
     "output_type": "stream",
     "text": [
      "[ 37096.72893147  38965.91742009  40835.10590871  45508.07713028\n",
      "  53919.42532909  54854.0195734   56723.20806202  56723.20806202\n",
      "  61396.17928358  63265.36777221  64199.96201652  64199.96201652\n",
      "  72611.31021533  76349.68719258  81957.25265845  82891.84690277\n",
      "  90368.60085726  93172.3835902  100649.1375447  103452.92027763]\n"
     ]
    }
   ],
   "source": [
    "print(y_pred_train)"
   ]
  },
  {
   "cell_type": "code",
   "execution_count": 281,
   "metadata": {},
   "outputs": [
    {
     "name": "stdout",
     "output_type": "stream",
     "text": [
      "Accuracy of train data = 93.19989360354178\n",
      "Accuracy of test data = 34.796092050907724\n"
     ]
    }
   ],
   "source": [
    "train_accuracy = sklearn.metrics.r2_score(y_train,y_pred_train)*100\n",
    "print(\"Accuracy of train data =\",train_accuracy)\n",
    "\n",
    "test_accuraccy = sklearn.metrics.r2_score(y_test,y_pred_test)*100\n",
    "print(\"Accuracy of test data =\",  test_accuraccy)"
   ]
  },
  {
   "cell_type": "code",
   "execution_count": null,
   "metadata": {},
   "outputs": [],
   "source": []
  },
  {
   "cell_type": "code",
   "execution_count": null,
   "metadata": {},
   "outputs": [],
   "source": []
  },
  {
   "cell_type": "code",
   "execution_count": null,
   "metadata": {},
   "outputs": [],
   "source": []
  }
 ],
 "metadata": {
  "kernelspec": {
   "display_name": "Python 3",
   "language": "python",
   "name": "python3"
  },
  "language_info": {
   "codemirror_mode": {
    "name": "ipython",
    "version": 3
   },
   "file_extension": ".py",
   "mimetype": "text/x-python",
   "name": "python",
   "nbconvert_exporter": "python",
   "pygments_lexer": "ipython3",
   "version": "3.7.2"
  }
 },
 "nbformat": 4,
 "nbformat_minor": 2
}
