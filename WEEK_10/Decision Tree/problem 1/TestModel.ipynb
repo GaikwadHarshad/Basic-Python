{
 "cells": [
  {
   "cell_type": "code",
   "execution_count": 3,
   "metadata": {},
   "outputs": [],
   "source": [
    " # import libraries\n",
    "import numpy as  np\n",
    "import pandas as pd\n",
    "import  array\n",
    "import matplotlib.pyplot as plt\n",
    "import importlib.util\n",
    "from matplotlib.colors import ListedColormap\n",
    "import array\n",
    "import sklearn\n",
    "import pickle\n",
    "from sklearn.metrics import confusion_matrix\n",
    "import warnings\n",
    "import csv\n",
    "warnings.filterwarnings('ignore')"
   ]
  },
  {
   "cell_type": "code",
   "execution_count": 4,
   "metadata": {},
   "outputs": [],
   "source": [
    "# importing template file \n",
    "spec = importlib.util.spec_from_file_location(\"Template\", \"/home/admin1/PycharmProjects/Basic Python/myprograms/WEEK_10/UtilityTemplate/UtilTemplate.py\")\n",
    "foo = importlib.util.module_from_spec(spec)\n",
    "spec.loader.exec_module(foo)\n",
    "# creating object of Template class\n",
    "log_template = foo.Template()"
   ]
  },
  {
   "cell_type": "code",
   "execution_count": 5,
   "metadata": {},
   "outputs": [
    {
     "name": "stdout",
     "output_type": "stream",
     "text": [
      "Dataset has 80 rows and 5 Columns\n"
     ]
    }
   ],
   "source": [
    "# load dataset\n",
    "test_dataset = log_template.read_csv('CSV_Files/test.csv')\n",
    "print(\"Dataset has {} rows and {} Columns\".format(test_dataset.shape[0],test_dataset.shape[1])) "
   ]
  },
  {
   "cell_type": "code",
   "execution_count": 6,
   "metadata": {},
   "outputs": [],
   "source": [
    "# load model training\n",
    "file = open('Pickle File/TrainPickle.pkl', 'rb')\n",
    "classifier = pickle.load(file)\n",
    "scale = pickle.load(file)"
   ]
  },
  {
   "cell_type": "code",
   "execution_count": 7,
   "metadata": {},
   "outputs": [],
   "source": [
    "# seperating feature and label of test data\n",
    "x_test = test_dataset.iloc[:,[2,3]].values\n",
    "y_test = test_dataset.iloc[:,4].values"
   ]
  },
  {
   "cell_type": "code",
   "execution_count": 9,
   "metadata": {},
   "outputs": [],
   "source": [
    "# tranform test data using scaling object\n",
    "x_test = scale.transform(x_test)"
   ]
  },
  {
   "cell_type": "code",
   "execution_count": 10,
   "metadata": {},
   "outputs": [],
   "source": [
    "# prediction on model by test data\n",
    "prediction =  log_template.prediction_classifier(x_test, classifier)"
   ]
  },
  {
   "cell_type": "code",
   "execution_count": 11,
   "metadata": {},
   "outputs": [],
   "source": [
    "# confusion matrix for describe performance of classification model\n",
    "cfm_test = sklearn.metrics.confusion_matrix(y_test,prediction)"
   ]
  },
  {
   "cell_type": "code",
   "execution_count": 12,
   "metadata": {},
   "outputs": [
    {
     "name": "stderr",
     "output_type": "stream",
     "text": [
      "'c' argument looks like a single numeric RGB or RGBA sequence, which should be avoided as value-mapping will have precedence in case its length matches with 'x' & 'y'.  Please use a 2-D array with a single row if you really want to specify the same RGB or RGBA value for all points.\n",
      "'c' argument looks like a single numeric RGB or RGBA sequence, which should be avoided as value-mapping will have precedence in case its length matches with 'x' & 'y'.  Please use a 2-D array with a single row if you really want to specify the same RGB or RGBA value for all points.\n"
     ]
    },
    {
     "data": {
      "image/png": "[encoded data removed]",
      "text/plain": [
       "<Figure size 432x288 with 1 Axes>"
      ]
     },
     "metadata": {
      "needs_background": "light"
     },
     "output_type": "display_data"
    }
   ],
   "source": [
    "# visualization of testing data\n",
    "x1,x2=np.meshgrid(np.arange(start=x_test[:,0].min()-1,stop=x_test[:,0].max()+1,step=0.01),np.arange(start=x_test[:,1].min()-1,stop=x_test[:,1].max()+1,step=0.01 ))\n",
    "plt.contourf(x1,x2,classifier.predict(np.array([x1.ravel(),x2.ravel()]).T).reshape(x1.shape),alpha=0.75,cmap=ListedColormap(('red','green')))\n",
    "\n",
    "# limit the age and salary         \n",
    "plt.xlim(x1.min(),x1.max())\n",
    "plt.ylim(x2.min(),x2.max())\n",
    "\n",
    "# plots all the datapoints in graph         \n",
    "for i,j in enumerate(np.unique(y_test)):\n",
    "    plt.scatter(x_test[y_test==j,0],x_test[y_test==j,1], c=ListedColormap(('blue','yellow'))(i),label=j)\n",
    "\n",
    "plt.title('Decision tree classification(Testing Set)')\n",
    "plt.xlabel('Age')\n",
    "plt.ylabel('estimated salary')\n",
    "plt.legend()\n",
    "plt.show()"
   ]
  },
  {
   "cell_type": "code",
   "execution_count": 13,
   "metadata": {},
   "outputs": [
    {
     "name": "stdout",
     "output_type": "stream",
     "text": [
      "Test Accuracy: 89.15770609318996\n"
     ]
    }
   ],
   "source": [
    "# get accuracy\n",
    "accuracy =  sklearn.metrics.balanced_accuracy_score(y_test,prediction)*100\n",
    "print(\"Test Accuracy:\",accuracy)"
   ]
  },
  {
   "cell_type": "code",
   "execution_count": null,
   "metadata": {},
   "outputs": [],
   "source": []
  }
 ],
 "metadata": {
  "kernelspec": {
   "display_name": "Python 3",
   "language": "python",
   "name": "python3"
  },
  "language_info": {
   "codemirror_mode": {
    "name": "ipython",
    "version": 3
   },
   "file_extension": ".py",
   "mimetype": "text/x-python",
   "name": "python",
   "nbconvert_exporter": "python",
   "pygments_lexer": "ipython3",
   "version": "3.7.2"
  }
 },
 "nbformat": 4,
 "nbformat_minor": 2
}
