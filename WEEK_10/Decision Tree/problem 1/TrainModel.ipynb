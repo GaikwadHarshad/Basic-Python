{
 "cells": [
  {
   "cell_type": "code",
   "execution_count": 1,
   "metadata": {},
   "outputs": [],
   "source": [
    " # import libraries\n",
    "import numpy as  np\n",
    "import pandas as pd\n",
    "import  array\n",
    "import matplotlib.pyplot as plt\n",
    "import importlib.util\n",
    "from matplotlib.colors import ListedColormap\n",
    "import array\n",
    "import sklearn\n",
    "import pickle\n",
    "from sklearn.metrics import confusion_matrix\n",
    "import warnings\n",
    "import csv\n",
    "warnings.filterwarnings('ignore')"
   ]
  },
  {
   "cell_type": "code",
   "execution_count": 2,
   "metadata": {},
   "outputs": [],
   "source": [
    "# importing template file \n",
    "spec = importlib.util.spec_from_file_location(\"Template\", \"/home/admin1/PycharmProjects/Basic Python/myprograms/WEEK_10/UtilityTemplate/UtilTemplate.py\")\n",
    "foo = importlib.util.module_from_spec(spec)\n",
    "spec.loader.exec_module(foo)\n",
    "# creating object of Template class\n",
    "log_template = foo.Template()"
   ]
  },
  {
   "cell_type": "code",
   "execution_count": 3,
   "metadata": {},
   "outputs": [],
   "source": [
    "# importing datasets\n",
    "dataset = pd.read_csv('/home/admin1/PycharmProjects/Basic Python/myprograms/WEEK_10/Logistic Regression/Datasets/Social_Network_Ads.csv')"
   ]
  },
  {
   "cell_type": "code",
   "execution_count": 4,
   "metadata": {},
   "outputs": [
    {
     "data": {
      "text/html": [
       "<div>\n",
       "<style scoped>\n",
       "    .dataframe tbody tr th:only-of-type {\n",
       "        vertical-align: middle;\n",
       "    }\n",
       "\n",
       "    .dataframe tbody tr th {\n",
       "        vertical-align: top;\n",
       "    }\n",
       "\n",
       "    .dataframe thead th {\n",
       "        text-align: right;\n",
       "    }\n",
       "</style>\n",
       "<table border=\"1\" class=\"dataframe\">\n",
       "  <thead>\n",
       "    <tr style=\"text-align: right;\">\n",
       "      <th></th>\n",
       "      <th>User ID</th>\n",
       "      <th>Gender</th>\n",
       "      <th>Age</th>\n",
       "      <th>EstimatedSalary</th>\n",
       "      <th>Purchased</th>\n",
       "    </tr>\n",
       "  </thead>\n",
       "  <tbody>\n",
       "    <tr>\n",
       "      <th>0</th>\n",
       "      <td>15624510</td>\n",
       "      <td>Male</td>\n",
       "      <td>19</td>\n",
       "      <td>19000</td>\n",
       "      <td>0</td>\n",
       "    </tr>\n",
       "    <tr>\n",
       "      <th>1</th>\n",
       "      <td>15810944</td>\n",
       "      <td>Male</td>\n",
       "      <td>35</td>\n",
       "      <td>20000</td>\n",
       "      <td>0</td>\n",
       "    </tr>\n",
       "    <tr>\n",
       "      <th>2</th>\n",
       "      <td>15668575</td>\n",
       "      <td>Female</td>\n",
       "      <td>26</td>\n",
       "      <td>43000</td>\n",
       "      <td>0</td>\n",
       "    </tr>\n",
       "    <tr>\n",
       "      <th>3</th>\n",
       "      <td>15603246</td>\n",
       "      <td>Female</td>\n",
       "      <td>27</td>\n",
       "      <td>57000</td>\n",
       "      <td>0</td>\n",
       "    </tr>\n",
       "    <tr>\n",
       "      <th>4</th>\n",
       "      <td>15804002</td>\n",
       "      <td>Male</td>\n",
       "      <td>19</td>\n",
       "      <td>76000</td>\n",
       "      <td>0</td>\n",
       "    </tr>\n",
       "  </tbody>\n",
       "</table>\n",
       "</div>"
      ],
      "text/plain": [
       "    User ID  Gender  Age  EstimatedSalary  Purchased\n",
       "0  15624510    Male   19            19000          0\n",
       "1  15810944    Male   35            20000          0\n",
       "2  15668575  Female   26            43000          0\n",
       "3  15603246  Female   27            57000          0\n",
       "4  15804002    Male   19            76000          0"
      ]
     },
     "execution_count": 4,
     "metadata": {},
     "output_type": "execute_result"
    }
   ],
   "source": [
    "dataset.head()"
   ]
  },
  {
   "cell_type": "code",
   "execution_count": 5,
   "metadata": {},
   "outputs": [
    {
     "name": "stdout",
     "output_type": "stream",
     "text": [
      "Dataset has 400 rows and 5 Columns\n"
     ]
    }
   ],
   "source": [
    "print(\"Dataset has {} rows and {} Columns\".format(dataset.shape[0],dataset.shape[1])) "
   ]
  },
  {
   "cell_type": "code",
   "execution_count": 6,
   "metadata": {},
   "outputs": [
    {
     "data": {
      "text/html": [
       "<div>\n",
       "<style scoped>\n",
       "    .dataframe tbody tr th:only-of-type {\n",
       "        vertical-align: middle;\n",
       "    }\n",
       "\n",
       "    .dataframe tbody tr th {\n",
       "        vertical-align: top;\n",
       "    }\n",
       "\n",
       "    .dataframe thead th {\n",
       "        text-align: right;\n",
       "    }\n",
       "</style>\n",
       "<table border=\"1\" class=\"dataframe\">\n",
       "  <thead>\n",
       "    <tr style=\"text-align: right;\">\n",
       "      <th></th>\n",
       "      <th>User ID</th>\n",
       "      <th>Gender</th>\n",
       "      <th>Age</th>\n",
       "      <th>EstimatedSalary</th>\n",
       "      <th>Purchased</th>\n",
       "    </tr>\n",
       "  </thead>\n",
       "  <tbody>\n",
       "    <tr>\n",
       "      <th>179</th>\n",
       "      <td>15673367</td>\n",
       "      <td>Female</td>\n",
       "      <td>31</td>\n",
       "      <td>34000</td>\n",
       "      <td>0</td>\n",
       "    </tr>\n",
       "  </tbody>\n",
       "</table>\n",
       "</div>"
      ],
      "text/plain": [
       "      User ID  Gender  Age  EstimatedSalary  Purchased\n",
       "179  15673367  Female   31            34000          0"
      ]
     },
     "execution_count": 6,
     "metadata": {},
     "output_type": "execute_result"
    }
   ],
   "source": [
    "dataset.sample()"
   ]
  },
  {
   "cell_type": "code",
   "execution_count": 7,
   "metadata": {},
   "outputs": [
    {
     "name": "stdout",
     "output_type": "stream",
     "text": [
      "<class 'pandas.core.frame.DataFrame'>\n",
      "RangeIndex: 400 entries, 0 to 399\n",
      "Data columns (total 5 columns):\n",
      "User ID            400 non-null int64\n",
      "Gender             400 non-null object\n",
      "Age                400 non-null int64\n",
      "EstimatedSalary    400 non-null int64\n",
      "Purchased          400 non-null int64\n",
      "dtypes: int64(4), object(1)\n",
      "memory usage: 15.7+ KB\n"
     ]
    }
   ],
   "source": [
    "# checking information about dataset\n",
    "dataset.info()"
   ]
  },
  {
   "cell_type": "code",
   "execution_count": 8,
   "metadata": {},
   "outputs": [
    {
     "data": {
      "text/html": [
       "<div>\n",
       "<style scoped>\n",
       "    .dataframe tbody tr th:only-of-type {\n",
       "        vertical-align: middle;\n",
       "    }\n",
       "\n",
       "    .dataframe tbody tr th {\n",
       "        vertical-align: top;\n",
       "    }\n",
       "\n",
       "    .dataframe thead th {\n",
       "        text-align: right;\n",
       "    }\n",
       "</style>\n",
       "<table border=\"1\" class=\"dataframe\">\n",
       "  <thead>\n",
       "    <tr style=\"text-align: right;\">\n",
       "      <th></th>\n",
       "      <th>count</th>\n",
       "      <th>mean</th>\n",
       "      <th>std</th>\n",
       "      <th>min</th>\n",
       "      <th>25%</th>\n",
       "      <th>50%</th>\n",
       "      <th>75%</th>\n",
       "      <th>max</th>\n",
       "    </tr>\n",
       "  </thead>\n",
       "  <tbody>\n",
       "    <tr>\n",
       "      <th>User ID</th>\n",
       "      <td>400.0</td>\n",
       "      <td>1.569154e+07</td>\n",
       "      <td>71658.321581</td>\n",
       "      <td>15566689.0</td>\n",
       "      <td>15626763.75</td>\n",
       "      <td>15694341.5</td>\n",
       "      <td>15750363.0</td>\n",
       "      <td>15815236.0</td>\n",
       "    </tr>\n",
       "    <tr>\n",
       "      <th>Age</th>\n",
       "      <td>400.0</td>\n",
       "      <td>3.765500e+01</td>\n",
       "      <td>10.482877</td>\n",
       "      <td>18.0</td>\n",
       "      <td>29.75</td>\n",
       "      <td>37.0</td>\n",
       "      <td>46.0</td>\n",
       "      <td>60.0</td>\n",
       "    </tr>\n",
       "    <tr>\n",
       "      <th>EstimatedSalary</th>\n",
       "      <td>400.0</td>\n",
       "      <td>6.974250e+04</td>\n",
       "      <td>34096.960282</td>\n",
       "      <td>15000.0</td>\n",
       "      <td>43000.00</td>\n",
       "      <td>70000.0</td>\n",
       "      <td>88000.0</td>\n",
       "      <td>150000.0</td>\n",
       "    </tr>\n",
       "    <tr>\n",
       "      <th>Purchased</th>\n",
       "      <td>400.0</td>\n",
       "      <td>3.575000e-01</td>\n",
       "      <td>0.479864</td>\n",
       "      <td>0.0</td>\n",
       "      <td>0.00</td>\n",
       "      <td>0.0</td>\n",
       "      <td>1.0</td>\n",
       "      <td>1.0</td>\n",
       "    </tr>\n",
       "  </tbody>\n",
       "</table>\n",
       "</div>"
      ],
      "text/plain": [
       "                 count          mean           std         min          25%  \\\n",
       "User ID          400.0  1.569154e+07  71658.321581  15566689.0  15626763.75   \n",
       "Age              400.0  3.765500e+01     10.482877        18.0        29.75   \n",
       "EstimatedSalary  400.0  6.974250e+04  34096.960282     15000.0     43000.00   \n",
       "Purchased        400.0  3.575000e-01      0.479864         0.0         0.00   \n",
       "\n",
       "                        50%         75%         max  \n",
       "User ID          15694341.5  15750363.0  15815236.0  \n",
       "Age                    37.0        46.0        60.0  \n",
       "EstimatedSalary     70000.0     88000.0    150000.0  \n",
       "Purchased               0.0         1.0         1.0  "
      ]
     },
     "execution_count": 8,
     "metadata": {},
     "output_type": "execute_result"
    }
   ],
   "source": [
    "dataset.describe().T"
   ]
  },
  {
   "cell_type": "code",
   "execution_count": 9,
   "metadata": {},
   "outputs": [
    {
     "data": {
      "text/plain": [
       "User ID            0\n",
       "Gender             0\n",
       "Age                0\n",
       "EstimatedSalary    0\n",
       "Purchased          0\n",
       "dtype: int64"
      ]
     },
     "execution_count": 9,
     "metadata": {},
     "output_type": "execute_result"
    }
   ],
   "source": [
    "# checking null values in dataset\n",
    "dataset.isnull().sum()"
   ]
  },
  {
   "cell_type": "code",
   "execution_count": 10,
   "metadata": {},
   "outputs": [
    {
     "data": {
      "text/plain": [
       "User ID            15566689\n",
       "Gender               Female\n",
       "Age                      18\n",
       "EstimatedSalary       15000\n",
       "Purchased                 0\n",
       "dtype: object"
      ]
     },
     "execution_count": 10,
     "metadata": {},
     "output_type": "execute_result"
    }
   ],
   "source": [
    "# check for minimum dataset\n",
    "dataset.min()"
   ]
  },
  {
   "cell_type": "code",
   "execution_count": 11,
   "metadata": {},
   "outputs": [
    {
     "data": {
      "text/plain": [
       "((320, 5), (80, 5))"
      ]
     },
     "execution_count": 11,
     "metadata": {},
     "output_type": "execute_result"
    }
   ],
   "source": [
    "# # split dataset into train and test set\n",
    "train,test  =  log_template.split_datasets(dataset,0.20)\n",
    "train.shape,test.shape"
   ]
  },
  {
   "cell_type": "code",
   "execution_count": 12,
   "metadata": {},
   "outputs": [],
   "source": [
    "# saving train data in csv file\n",
    "train_csv  =  log_template.save_csv(train,'CSV_Files/train.csv')"
   ]
  },
  {
   "cell_type": "code",
   "execution_count": 13,
   "metadata": {},
   "outputs": [],
   "source": [
    "# saving test data in csv file\n",
    "test_csv =  log_template.save_csv(test,'CSV_Files/test.csv')"
   ]
  },
  {
   "cell_type": "code",
   "execution_count": 14,
   "metadata": {},
   "outputs": [],
   "source": [
    "# reading train.csv for further operation on it\n",
    "train_file  = log_template.read_csv('CSV_Files/train.csv')"
   ]
  },
  {
   "cell_type": "code",
   "execution_count": 15,
   "metadata": {},
   "outputs": [],
   "source": [
    "# Split train.csv data into Train and cross validation \n",
    "train_data,cross_val = log_template.split_datasets(train_file,0.30)"
   ]
  },
  {
   "cell_type": "code",
   "execution_count": 16,
   "metadata": {},
   "outputs": [
    {
     "data": {
      "text/plain": [
       "((224, 5), (96, 5))"
      ]
     },
     "execution_count": 16,
     "metadata": {},
     "output_type": "execute_result"
    }
   ],
   "source": [
    "train_data.shape,cross_val.shape"
   ]
  },
  {
   "cell_type": "code",
   "execution_count": 17,
   "metadata": {},
   "outputs": [],
   "source": [
    "# saving cross validation data in csv file\n",
    "cv_file = log_template.save_csv(cross_val,'CSV_Files/cross_validation.csv')"
   ]
  },
  {
   "cell_type": "code",
   "execution_count": 18,
   "metadata": {},
   "outputs": [],
   "source": [
    "# reading cross validation file\n",
    "cv_data = log_template.read_csv('CSV_Files/cross_validation.csv')"
   ]
  },
  {
   "cell_type": "code",
   "execution_count": 19,
   "metadata": {},
   "outputs": [],
   "source": [
    "# seperating features and label from train data\n",
    "x_train = train_data.iloc[:,[2,3]].values\n",
    "y_train = train_data.iloc[:,4].values"
   ]
  },
  {
   "cell_type": "code",
   "execution_count": 20,
   "metadata": {},
   "outputs": [],
   "source": [
    "# seperating features and label from cv data\n",
    "x_cv = cv_data.iloc[:,[2,3]].values\n",
    "y_cv = cv_data.iloc[:,4].values"
   ]
  },
  {
   "cell_type": "code",
   "execution_count": 21,
   "metadata": {},
   "outputs": [
    {
     "data": {
      "text/plain": [
       "((224, 2), (224,))"
      ]
     },
     "execution_count": 21,
     "metadata": {},
     "output_type": "execute_result"
    }
   ],
   "source": [
    "# reshape y column of train data\n",
    "# y_train =y_train.reshape(-1,1)\n",
    "x_train.shape,y_train.shape"
   ]
  },
  {
   "cell_type": "code",
   "execution_count": 22,
   "metadata": {},
   "outputs": [
    {
     "data": {
      "text/plain": [
       "((96, 2), (96, 1))"
      ]
     },
     "execution_count": 22,
     "metadata": {},
     "output_type": "execute_result"
    }
   ],
   "source": [
    "# reshape y column of  cv data\n",
    "y_cv = y_cv.reshape(-1,1)\n",
    "x_cv.shape,y_cv.shape"
   ]
  },
  {
   "cell_type": "code",
   "execution_count": 23,
   "metadata": {},
   "outputs": [],
   "source": [
    "# perform scaling operation on x train data\n",
    "x_train = log_template.feature_scaling(x_train)"
   ]
  },
  {
   "cell_type": "code",
   "execution_count": 24,
   "metadata": {},
   "outputs": [],
   "source": [
    "# perform scaling operation on x_cv of cross validation\n",
    "x_cv = log_template.feature_scaling(x_cv)"
   ]
  },
  {
   "cell_type": "code",
   "execution_count": 27,
   "metadata": {},
   "outputs": [
    {
     "name": "stderr",
     "output_type": "stream",
     "text": [
      "'c' argument looks like a single numeric RGB or RGBA sequence, which should be avoided as value-mapping will have precedence in case its length matches with 'x' & 'y'.  Please use a 2-D array with a single row if you really want to specify the same RGB or RGBA value for all points.\n",
      "'c' argument looks like a single numeric RGB or RGBA sequence, which should be avoided as value-mapping will have precedence in case its length matches with 'x' & 'y'.  Please use a 2-D array with a single row if you really want to specify the same RGB or RGBA value for all points.\n"
     ]
    },
    {
     "name": "stdout",
     "output_type": "stream",
     "text": [
      "Model Fitted\n",
      "Model performane on train data:\n",
      " [[153   0]\n",
      " [  1  70]]\n",
      "Model performance on cross validation:\n",
      " [[53  4]\n",
      " [10 29]]\n",
      "Accuracy on Train: 99.29577464788733\n",
      "Accuracy on cross validation: 83.67071524966262\n"
     ]
    },
    {
     "data": {
      "image/png": "[encoded data removed]",
      "text/plain": [
       "<Figure size 432x288 with 1 Axes>"
      ]
     },
     "metadata": {
      "needs_background": "light"
     },
     "output_type": "display_data"
    }
   ],
   "source": [
    "class Training_DTC():\n",
    "    \n",
    "    def fit_model(self,x,y):\n",
    "        return log_template.Fit_Model_DecisionTree(x,y)\n",
    "    \n",
    "    def prediction(self,train,classifier):\n",
    "        return  log_template.prediction_classifier(train,classifier)\n",
    "    \n",
    "    def get_confusion_matrix(self,train,predicted):\n",
    "        return confusion_matrix(train,predicted)\n",
    "        \n",
    "    def get_accuracy(self,y,y_predicted):\n",
    "        return  sklearn.metrics.balanced_accuracy_score(y,y_predicted)*100\n",
    "        \n",
    "    def visualization(self,x,y,classifier):\n",
    "        x1,x2=np.meshgrid(np.arange(start=x[:,0].min()-1,stop=x[:,0].max()+1,step=0.01),np.arange(start=x[:,1].min()-1,stop=x[:,1].max()+1,step=0.01 ))\n",
    "        plt.contourf(x1,x2,classifier.predict(np.array([x1.ravel(),x2.ravel()]).T).reshape(x1.shape),alpha=0.75,cmap=ListedColormap(('red','green')))\n",
    "        \n",
    "        # limit the age and salary         \n",
    "        plt.xlim(x1.min(),x1.max())\n",
    "        plt.ylim(x2.min(),x2.max())\n",
    "       \n",
    "        # plots all the datapoints in graph         \n",
    "        for i,j in enumerate(np.unique(y)):\n",
    "            plt.scatter(x[y==j,0],x[y==j,1],c=ListedColormap(('orange','green'))(i),label=j)\n",
    "\n",
    "        plt.title('Decision Tree Classification(Training  Set)')\n",
    "        plt.xlabel('Age')\n",
    "        plt.ylabel('estimated salary')\n",
    "        plt.legend()\n",
    "        plt.show()\n",
    "        \n",
    "def main():\n",
    "# instantiation of class\n",
    "    obj = Training_DTC()\n",
    "#     fitting train model\n",
    "    classifier = obj.fit_model(x_train,y_train)\n",
    "    print(\"Model Fitted\")\n",
    "#     prediction over train model by x_train data\n",
    "    prediction_train = obj.prediction(x_train,classifier)\n",
    "#     confusion matrix for describe performance of classification model\n",
    "    train_cf_matrix = obj.get_confusion_matrix(y_train,prediction_train)\n",
    "    print(\"Model performane on train data:\\n\",train_cf_matrix)\n",
    "\n",
    "#     predict cross validation on model\n",
    "    prediction_cv =  obj.prediction(x_cv,classifier)\n",
    "    cv_cf_matrix  = obj.get_confusion_matrix(y_cv,prediction_cv)\n",
    "    print(\"Model performance on cross validation:\\n\",cv_cf_matrix)\n",
    "    \n",
    "#     getting accuracy on train data  and cross validation\n",
    "    train_accuracy = obj.get_accuracy(y_train,prediction_train)\n",
    "    print(\"Accuracy on Train:\",train_accuracy)\n",
    "    cv_accuracy = obj.get_accuracy(y_cv,prediction_cv)\n",
    "    print(\"Accuracy on cross validation:\",cv_accuracy)\n",
    "    \n",
    "    # Setting threshold limit where we get accuracy greater than 80%\n",
    "    # then save our model in pickle file  \n",
    "    if train_accuracy or cv_accuracy > 80:\n",
    "        file = open('Pickle File/TrainPickle.pkl', 'wb')\n",
    "        pickle.dump(classifier,file)\n",
    "        file.close()     \n",
    "\n",
    "#     visualization of data\n",
    "    obj.visualization(x_train,y_train,classifier)\n",
    "\n",
    "if __name__ == '__main__':\n",
    "    main()"
   ]
  },
  {
   "cell_type": "code",
   "execution_count": null,
   "metadata": {},
   "outputs": [],
   "source": []
  },
  {
   "cell_type": "code",
   "execution_count": null,
   "metadata": {},
   "outputs": [],
   "source": []
  }
 ],
 "metadata": {
  "kernelspec": {
   "display_name": "Python 3",
   "language": "python",
   "name": "python3"
  },
  "language_info": {
   "codemirror_mode": {
    "name": "ipython",
    "version": 3
   },
   "file_extension": ".py",
   "mimetype": "text/x-python",
   "name": "python",
   "nbconvert_exporter": "python",
   "pygments_lexer": "ipython3",
   "version": "3.7.2"
  }
 },
 "nbformat": 4,
 "nbformat_minor": 2
}
