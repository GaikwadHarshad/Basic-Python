{
 "cells": [
  {
   "cell_type": "code",
   "execution_count": 3,
   "metadata": {},
   "outputs": [],
   "source": [
    "class Template:\n",
    "    \n",
    "#     def get_libraries(self):\n",
    "#         import numpy as np\n",
    "#         import matplotlib.pyplot as plt\n",
    "#         from matplotlib import pyplot as plt  \n",
    "#         import pandas as pd\n",
    "#         from sklearn.preprocessing import Imputer\n",
    "#         from sklearn.model_selection import train_test_split\n",
    "#         from sklearn.preprocessing import LabelEncoder, OneHotEncoder\n",
    "#         from sklearn.tree import DecisionTreeRegressor\n",
    "#         from sklearn.metrics import accuracy_score\n",
    "#         from sklearn.metrics import *\n",
    "#         return\n",
    "        \n",
    "    def split_dataset(self,dataset):\n",
    "        x_train,x_test = train_test_split(dataset,test_size = 0.20)\n",
    "        return x_train,x_test\n",
    "    \n",
    "    def split_data(self,x,y):\n",
    "        x_train,x_test,y_train,y_test = train_test_split(x,y,test_size = 0.20)\n",
    "        return x_train,x_test,y_train,y_test\n",
    "    \n",
    "    def save_test_csv(test):\n",
    "        return test.to_csv('test.csv',index=False)\n",
    "    \n",
    "    def save_train_csv(train):\n",
    "        return train.to_csv('train.csv',index=False)\n",
    "    \n",
    "    def Fit_Model(self,x,y):\n",
    "        regressor = LinearRegression()\n",
    "        regressor.fit(x,y)\n",
    "        return regressor\n",
    "        "
   ]
  },
  {
   "cell_type": "code",
   "execution_count": null,
   "metadata": {},
   "outputs": [],
   "source": []
  }
 ],
 "metadata": {
  "kernelspec": {
   "display_name": "Python 3",
   "language": "python",
   "name": "python3"
  },
  "language_info": {
   "codemirror_mode": {
    "name": "ipython",
    "version": 3
   },
   "file_extension": ".py",
   "mimetype": "text/x-python",
   "name": "python",
   "nbconvert_exporter": "python",
   "pygments_lexer": "ipython3",
   "version": "3.7.2"
  }
 },
 "nbformat": 4,
 "nbformat_minor": 2
}
