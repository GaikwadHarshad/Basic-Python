{
 "cells": [
  {
   "cell_type": "code",
   "execution_count": 1,
   "metadata": {},
   "outputs": [],
   "source": [
    "import pandas as pd\n",
    "import warnings\n",
    "warnings.filterwarnings('ignore')\n",
    "from template import Template"
   ]
  },
  {
   "cell_type": "code",
   "execution_count": 2,
   "metadata": {},
   "outputs": [],
   "source": [
    "# import dataset\n",
    "dataset =  pd.read_csv('/home/admin1/PycharmProjects/Basic Python/myprograms/WEEK_9/multiple  linear regression/Data/50_Startups.csv')"
   ]
  },
  {
   "cell_type": "code",
   "execution_count": 3,
   "metadata": {},
   "outputs": [
    {
     "data": {
      "text/plain": [
       "(50, 5)"
      ]
     },
     "execution_count": 3,
     "metadata": {},
     "output_type": "execute_result"
    }
   ],
   "source": [
    "dataset.shape"
   ]
  },
  {
   "cell_type": "code",
   "execution_count": 4,
   "metadata": {},
   "outputs": [],
   "source": [
    "# split dataset into x_train and x_test\n",
    "x_train,x_test = Template.split_dataset(dataset)"
   ]
  },
  {
   "cell_type": "code",
   "execution_count": 5,
   "metadata": {},
   "outputs": [
    {
     "data": {
      "text/plain": [
       "((40, 5), (10, 5))"
      ]
     },
     "execution_count": 5,
     "metadata": {},
     "output_type": "execute_result"
    }
   ],
   "source": [
    "x_train.shape,x_test.shape"
   ]
  },
  {
   "cell_type": "code",
   "execution_count": 6,
   "metadata": {},
   "outputs": [],
   "source": [
    "# save test data csv file\n",
    "test_csv = Template.save_test_csv(x_test)"
   ]
  },
  {
   "cell_type": "code",
   "execution_count": 7,
   "metadata": {},
   "outputs": [],
   "source": [
    "# save train data csv file\n",
    "train_csv = Template.save_train_csv(x_train)"
   ]
  },
  {
   "cell_type": "code",
   "execution_count": 8,
   "metadata": {},
   "outputs": [],
   "source": [
    "# reading train csv file\n",
    "train_data = Template.read_csv('train.csv')"
   ]
  },
  {
   "cell_type": "code",
   "execution_count": 9,
   "metadata": {},
   "outputs": [],
   "source": [
    "# split train dataset\n",
    "x_train_data,cross_valid = Template.split_dataset(x_train)"
   ]
  },
  {
   "cell_type": "code",
   "execution_count": 10,
   "metadata": {},
   "outputs": [],
   "source": [
    "# save cross data csv file\n",
    "cross_csv = Template.save_train_csv(cross_valid)"
   ]
  },
  {
   "cell_type": "code",
   "execution_count": 11,
   "metadata": {},
   "outputs": [],
   "source": [
    "# split x_train_data into x and y  \n",
    "x = x_train_data.iloc[:,:-1].values\n",
    "y = x_train_data.iloc[:,4].values"
   ]
  },
  {
   "cell_type": "code",
   "execution_count": 12,
   "metadata": {},
   "outputs": [],
   "source": [
    "y=y.reshape(-1,1)"
   ]
  },
  {
   "cell_type": "code",
   "execution_count": 13,
   "metadata": {},
   "outputs": [
    {
     "data": {
      "text/plain": [
       "((32, 5), (8, 5))"
      ]
     },
     "execution_count": 13,
     "metadata": {},
     "output_type": "execute_result"
    }
   ],
   "source": [
    "x_train_data.shape,cross_valid.shape"
   ]
  },
  {
   "cell_type": "code",
   "execution_count": 14,
   "metadata": {},
   "outputs": [],
   "source": [
    "\"\"\" Data Preprocessing \"\"\"\n",
    "from sklearn.preprocessing import Imputer\n",
    "from  sklearn.preprocessing import LabelEncoder, OneHotEncoder\n",
    "from  sklearn.preprocessing import StandardScaler\n",
    "class Data_preprocessing:\n",
    "    \n",
    "#     handling missind data\n",
    "    def handel_missing_data(self,dataset):\n",
    "        imputer = Imputer(missing_values='NaN', strategy='mean', axis=0)\n",
    "        imputer = imputer.fit(dataset[:,1:3])\n",
    "        dataset[:,1:3] = imputer.transform(dataset[:,1:3])\n",
    "        return dataset\n",
    "    \n",
    "#       encoding categorical data\n",
    "    def encode_categorical_data(self,handled_data):\n",
    "        label_encoder_train = LabelEncoder()\n",
    "        handled_data[:,3] = label_encoder_train.fit_transform(handled_data[:,3])\n",
    "        onehotencoder = OneHotEncoder(categorical_features=[3])\n",
    "        handled_data = onehotencoder.fit_transform(handled_data).toarray()\n",
    "        return handled_data\n",
    "    \n",
    "#     encodedependent variable\n",
    "    def encode_dependent_variable(self,y):\n",
    "        label_encoder_y = LabelEncoder()\n",
    "        y = label_encoder_y.fit_transform(y)\n",
    "        return y\n",
    "    def feature_scaling(self,x_cv):\n",
    "        ss = StandardScaler()\n",
    "        x_cv = ss.fit_transform(x_cv)\n",
    "        return x_cv\n"
   ]
  },
  {
   "cell_type": "code",
   "execution_count": 15,
   "metadata": {},
   "outputs": [
    {
     "name": "stderr",
     "output_type": "stream",
     "text": [
      "/home/admin1/Downloads/Enter/envs/my_env/lib/python3.7/site-packages/sklearn/utils/deprecation.py:58: DeprecationWarning: Class Imputer is deprecated; Imputer was deprecated in version 0.20 and will be removed in 0.22. Import impute.SimpleImputer from sklearn instead.\n",
      "  warnings.warn(msg, category=DeprecationWarning)\n",
      "/home/admin1/Downloads/Enter/envs/my_env/lib/python3.7/site-packages/sklearn/preprocessing/_encoders.py:392: DeprecationWarning: The 'categorical_features' keyword is deprecated in version 0.20 and will be removed in 0.22. You can use the ColumnTransformer instead.\n",
      "  \"use the ColumnTransformer instead.\", DeprecationWarning)\n"
     ]
    }
   ],
   "source": [
    "# instantiation and Dataprepreprocessing \n",
    "obj =  Data_preprocessing()\n",
    "handled_data = obj.handel_missing_data(x)\n",
    "x_encode = obj.encode_categorical_data(handled_data)\n",
    "y_encode = obj.encode_dependent_variable(y)"
   ]
  },
  {
   "cell_type": "code",
   "execution_count": 16,
   "metadata": {},
   "outputs": [],
   "source": [
    "# reading cross validation scv file\n",
    "cross_val = Template.read_csv('cross_valid.csv')"
   ]
  },
  {
   "cell_type": "code",
   "execution_count": 17,
   "metadata": {},
   "outputs": [],
   "source": [
    "# split  cross validate data into x_cv and y_cv\n",
    "x_cv = cross_valid.iloc[:,:-1].values\n",
    "y_cv = cross_valid.iloc[:,1].values"
   ]
  },
  {
   "cell_type": "code",
   "execution_count": 18,
   "metadata": {},
   "outputs": [
    {
     "name": "stderr",
     "output_type": "stream",
     "text": [
      "/home/admin1/Downloads/Enter/envs/my_env/lib/python3.7/site-packages/sklearn/preprocessing/_encoders.py:392: DeprecationWarning: The 'categorical_features' keyword is deprecated in version 0.20 and will be removed in 0.22. You can use the ColumnTransformer instead.\n",
      "  \"use the ColumnTransformer instead.\", DeprecationWarning)\n"
     ]
    }
   ],
   "source": [
    "# encode x_cv data\n",
    "obj_dp =  Data_preprocessing()\n",
    "x_cv = obj_dp.encode_categorical_data(x_cv)\n",
    "x_cv =  obj_dp.feature_scaling(x_cv)\n",
    "y_cv = y_cv.reshape(-1,1)"
   ]
  },
  {
   "cell_type": "code",
   "execution_count": 19,
   "metadata": {},
   "outputs": [],
   "source": [
    "# fitting model on train data\n",
    "regressor = Template.Fit_Model(x_encode,y_encode)"
   ]
  },
  {
   "cell_type": "code",
   "execution_count": 20,
   "metadata": {},
   "outputs": [],
   "source": [
    "# make prediction over train data\n",
    "prediction_train = Template.prediction_train(x_encode,regressor)"
   ]
  },
  {
   "cell_type": "code",
   "execution_count": 21,
   "metadata": {},
   "outputs": [],
   "source": [
    "# make prediction on cross validate data\n",
    "prediction_cv = Template.prediction_cv(x_cv,regressor)"
   ]
  },
  {
   "cell_type": "code",
   "execution_count": 22,
   "metadata": {},
   "outputs": [
    {
     "name": "stdout",
     "output_type": "stream",
     "text": [
      "Train Accuracy: 92.81976685801648\n"
     ]
    }
   ],
   "source": [
    "# get accuracy\n",
    "accuracy = Template.train_accuracy(y_encode,prediction_train)\n",
    "print(\"Train Accuracy:\",accuracy)"
   ]
  },
  {
   "cell_type": "code",
   "execution_count": 23,
   "metadata": {},
   "outputs": [
    {
     "name": "stdout",
     "output_type": "stream",
     "text": [
      "Train Accuracy: 99.99652017667576\n"
     ]
    }
   ],
   "source": [
    "# get accuracy\n",
    "accuracy = Template.test_accuracy(y_cv,prediction_cv)\n",
    "print(\"Train Accuracy:\",accuracy)"
   ]
  },
  {
   "cell_type": "code",
   "execution_count": null,
   "metadata": {},
   "outputs": [],
   "source": []
  }
 ],
 "metadata": {
  "kernelspec": {
   "display_name": "Python 3",
   "language": "python",
   "name": "python3"
  },
  "language_info": {
   "codemirror_mode": {
    "name": "ipython",
    "version": 3
   },
   "file_extension": ".py",
   "mimetype": "text/x-python",
   "name": "python",
   "nbconvert_exporter": "python",
   "pygments_lexer": "ipython3",
   "version": "3.7.2"
  }
 },
 "nbformat": 4,
 "nbformat_minor": 2
}
