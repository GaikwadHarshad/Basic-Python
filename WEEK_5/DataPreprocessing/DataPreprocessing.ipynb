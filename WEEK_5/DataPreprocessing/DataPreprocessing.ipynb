{
 "cells": [
  {
   "cell_type": "code",
   "execution_count": 12,
   "metadata": {},
   "outputs": [],
   "source": [
    "# data preprocessing on given dataset\n",
    "import pandas as pd\n",
    "import numpy as np\n",
    "\n",
    "class PreProcessing:\n",
    "    def __init__(self):\n",
    "#         loading the dataset\n",
    "        self.dataset = pd.read_csv(\"/home/admin1/PycharmProjects/Basic Python/myprograms/WEEK_5/Data/data_preprocessing.csv\")\n",
    "\n",
    "    def handle_missing_data(self):\n",
    "        print(\"Original Dataset:\\n\",self.dataset)\n",
    "#         replace missing data with mean\n",
    "        print(\"\\nReplace missing data with mean\")\n",
    "        self.dataset.replace(np.NaN, self.dataset.mean(),inplace=True)\n",
    "        print(\"\\n\",self.dataset)\n",
    "        \n",
    "    def handle_categorical_data(self):\n",
    "#         Create a set of dummy variables from the dataset\n",
    "        print(\"\\nHandling categorical data:\\n\")\n",
    "#         getting one hot encoded values for independent data          \n",
    "        independent_dummy_data = pd.get_dummies(self.dataset[['Age','Salary','Country']])\n",
    "        print(\"Independent categorical data\\n\")\n",
    "        print(independent_dummy_data,\"\\n\")\n",
    "#         getting one hot encoded values for dependent data         \n",
    "        dependent_dummy_data = pd.get_dummies(self.dataset['Purchased'])\n",
    "        print(\"Dependent categorical data\\n\")\n",
    "        data = self.dataset.join(dependent_dummy_data) \n",
    "        print(data)\n",
    "        \n",
    "    def train_and_test_dataset(self):\n",
    "#         calculate train dataset percentage for train model\n",
    "        train_per = 0.70*len(self.dataset)\n",
    "        train_per = int(train_per)\n",
    "#         calculate test dataset percentage for test train model         \n",
    "        test_per = len(self.dataset)-train_per\n",
    "#         getting trained data from dataset\n",
    "        X_train_set = self.dataset.head(train_per)\n",
    "        print(\"\\nTrain data set:\\n\")\n",
    "        print(X_train_set)\n",
    "#         getting test data for testing train model\n",
    "        Y_train_set = self.dataset.tail(test_per)\n",
    "        print(\"\\nTest data set:\\n\")\n",
    "        print(Y_train_set)\n",
    "    \n",
    "    def feature_scaling(self):\n",
    "#         standerdization of dataset\n",
    "        for column in self.dataset.columns:\n",
    "           if 'Country' == column or 'Purchased' == column :    \n",
    "               pass\n",
    "           else:\n",
    "            self.dataset[column] = (self.dataset[column] - self.dataset[column].min()) / (self.dataset[column].max()-self.dataset[column].min())\n",
    "        print(\"\\n\\nStanderdization\\n\\n\",self.dataset)\n",
    "#         Normalization of  dataset\n",
    "#         for name in self.dataset.columns:\n",
    "#            if 'Country' == name or 'Purchased' == name :    \n",
    "#                pass\n",
    "#            else:\n",
    "#                self.dataset[name] = (self.dataset[name] - self.dataset[name].mean()) / np.std(self.dataset[name])\n",
    "#         print(\"Standerdization\\n\\n\", self.dataset)\n",
    "        \n",
    "    \n",
    "# class instantiation\n",
    "PreProcessing_object = PreProcessing()"
   ]
  },
  {
   "cell_type": "code",
   "execution_count": 13,
   "metadata": {},
   "outputs": [
    {
     "name": "stdout",
     "output_type": "stream",
     "text": [
      "Original Dataset:\n",
      "    Country   Age   Salary Purchased\n",
      "0   France  44.0  72000.0        No\n",
      "1    Spain  27.0  48000.0       Yes\n",
      "2  Germany  30.0  54000.0        No\n",
      "3    Spain  38.0  61000.0        No\n",
      "4  Germany  40.0      NaN       Yes\n",
      "5   France  35.0  58000.0       Yes\n",
      "6    Spain   NaN  52000.0        No\n",
      "7   France  48.0  79000.0       Yes\n",
      "8  Germany  50.0  83000.0        No\n",
      "9   France  37.0  67000.0       Yes\n",
      "\n",
      "Replace missing data with mean\n",
      "\n",
      "    Country        Age        Salary Purchased\n",
      "0   France  44.000000  72000.000000        No\n",
      "1    Spain  27.000000  48000.000000       Yes\n",
      "2  Germany  30.000000  54000.000000        No\n",
      "3    Spain  38.000000  61000.000000        No\n",
      "4  Germany  40.000000  63777.777778       Yes\n",
      "5   France  35.000000  58000.000000       Yes\n",
      "6    Spain  38.777778  52000.000000        No\n",
      "7   France  48.000000  79000.000000       Yes\n",
      "8  Germany  50.000000  83000.000000        No\n",
      "9   France  37.000000  67000.000000       Yes\n"
     ]
    }
   ],
   "source": [
    "PreProcessing_object.handle_missing_data()"
   ]
  },
  {
   "cell_type": "code",
   "execution_count": 14,
   "metadata": {},
   "outputs": [
    {
     "name": "stdout",
     "output_type": "stream",
     "text": [
      "\n",
      "Handling categorical data:\n",
      "\n",
      "Independent categorical data\n",
      "\n",
      "         Age        Salary  Country_France  Country_Germany  Country_Spain\n",
      "0  44.000000  72000.000000               1                0              0\n",
      "1  27.000000  48000.000000               0                0              1\n",
      "2  30.000000  54000.000000               0                1              0\n",
      "3  38.000000  61000.000000               0                0              1\n",
      "4  40.000000  63777.777778               0                1              0\n",
      "5  35.000000  58000.000000               1                0              0\n",
      "6  38.777778  52000.000000               0                0              1\n",
      "7  48.000000  79000.000000               1                0              0\n",
      "8  50.000000  83000.000000               0                1              0\n",
      "9  37.000000  67000.000000               1                0              0 \n",
      "\n",
      "Dependent categorical data\n",
      "\n",
      "   Country        Age        Salary Purchased  No  Yes\n",
      "0   France  44.000000  72000.000000        No   1    0\n",
      "1    Spain  27.000000  48000.000000       Yes   0    1\n",
      "2  Germany  30.000000  54000.000000        No   1    0\n",
      "3    Spain  38.000000  61000.000000        No   1    0\n",
      "4  Germany  40.000000  63777.777778       Yes   0    1\n",
      "5   France  35.000000  58000.000000       Yes   0    1\n",
      "6    Spain  38.777778  52000.000000        No   1    0\n",
      "7   France  48.000000  79000.000000       Yes   0    1\n",
      "8  Germany  50.000000  83000.000000        No   1    0\n",
      "9   France  37.000000  67000.000000       Yes   0    1\n"
     ]
    }
   ],
   "source": [
    "PreProcessing_object.handle_categorical_data()"
   ]
  },
  {
   "cell_type": "code",
   "execution_count": 15,
   "metadata": {},
   "outputs": [
    {
     "name": "stdout",
     "output_type": "stream",
     "text": [
      "\n",
      "Train data set:\n",
      "\n",
      "   Country        Age        Salary Purchased\n",
      "0   France  44.000000  72000.000000        No\n",
      "1    Spain  27.000000  48000.000000       Yes\n",
      "2  Germany  30.000000  54000.000000        No\n",
      "3    Spain  38.000000  61000.000000        No\n",
      "4  Germany  40.000000  63777.777778       Yes\n",
      "5   France  35.000000  58000.000000       Yes\n",
      "6    Spain  38.777778  52000.000000        No\n",
      "\n",
      "Test data set:\n",
      "\n",
      "   Country   Age   Salary Purchased\n",
      "7   France  48.0  79000.0       Yes\n",
      "8  Germany  50.0  83000.0        No\n",
      "9   France  37.0  67000.0       Yes\n"
     ]
    }
   ],
   "source": [
    "PreProcessing_object.train_and_test_dataset()"
   ]
  },
  {
   "cell_type": "code",
   "execution_count": 16,
   "metadata": {},
   "outputs": [
    {
     "name": "stdout",
     "output_type": "stream",
     "text": [
      "\n",
      "\n",
      "Standerdization\n",
      "\n",
      "    Country       Age    Salary Purchased\n",
      "0   France  0.739130  0.685714        No\n",
      "1    Spain  0.000000  0.000000       Yes\n",
      "2  Germany  0.130435  0.171429        No\n",
      "3    Spain  0.478261  0.371429        No\n",
      "4  Germany  0.565217  0.450794       Yes\n",
      "5   France  0.347826  0.285714       Yes\n",
      "6    Spain  0.512077  0.114286        No\n",
      "7   France  0.913043  0.885714       Yes\n",
      "8  Germany  1.000000  1.000000        No\n",
      "9   France  0.434783  0.542857       Yes\n"
     ]
    }
   ],
   "source": [
    "PreProcessing_object.feature_scaling()"
   ]
  },
  {
   "cell_type": "code",
   "execution_count": null,
   "metadata": {},
   "outputs": [],
   "source": []
  }
 ],
 "metadata": {
  "kernelspec": {
   "display_name": "Python 3",
   "language": "python",
   "name": "python3"
  },
  "language_info": {
   "codemirror_mode": {
    "name": "ipython",
    "version": 3
   },
   "file_extension": ".py",
   "mimetype": "text/x-python",
   "name": "python",
   "nbconvert_exporter": "python",
   "pygments_lexer": "ipython3",
   "version": "3.7.2"
  }
 },
 "nbformat": 4,
 "nbformat_minor": 2
}
