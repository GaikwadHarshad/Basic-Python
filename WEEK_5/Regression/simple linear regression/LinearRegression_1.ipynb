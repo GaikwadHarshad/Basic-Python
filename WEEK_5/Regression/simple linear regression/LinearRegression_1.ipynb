{
 "cells": [
  {
   "cell_type": "code",
   "execution_count": 5,
   "metadata": {},
   "outputs": [],
   "source": [
    "import pandas as pd\n",
    "import numpy as np\n",
    "import matplotlib.pyplot as plt\n",
    "import seaborn as  sb\n",
    "%matplotlib inline\n"
   ]
  },
  {
   "cell_type": "code",
   "execution_count": 81,
   "metadata": {},
   "outputs": [],
   "source": [
    "# read csv file\n",
    "train_data = pd.read_csv(\"train.csv\")\n",
    "test_data = pd.read_csv(\"test.csv\")"
   ]
  },
  {
   "cell_type": "code",
   "execution_count": 105,
   "metadata": {},
   "outputs": [
    {
     "data": {
      "text/html": [
       "<div>\n",
       "<style scoped>\n",
       "    .dataframe tbody tr th:only-of-type {\n",
       "        vertical-align: middle;\n",
       "    }\n",
       "\n",
       "    .dataframe tbody tr th {\n",
       "        vertical-align: top;\n",
       "    }\n",
       "\n",
       "    .dataframe thead th {\n",
       "        text-align: right;\n",
       "    }\n",
       "</style>\n",
       "<table border=\"1\" class=\"dataframe\">\n",
       "  <thead>\n",
       "    <tr style=\"text-align: right;\">\n",
       "      <th></th>\n",
       "      <th>x</th>\n",
       "      <th>y</th>\n",
       "    </tr>\n",
       "  </thead>\n",
       "  <tbody>\n",
       "    <tr>\n",
       "      <th>0</th>\n",
       "      <td>0.006799</td>\n",
       "      <td>0.225260</td>\n",
       "    </tr>\n",
       "    <tr>\n",
       "      <th>1</th>\n",
       "      <td>0.014164</td>\n",
       "      <td>0.455183</td>\n",
       "    </tr>\n",
       "    <tr>\n",
       "      <th>2</th>\n",
       "      <td>0.004249</td>\n",
       "      <td>0.186836</td>\n",
       "    </tr>\n",
       "    <tr>\n",
       "      <th>3</th>\n",
       "      <td>0.010764</td>\n",
       "      <td>0.358671</td>\n",
       "    </tr>\n",
       "    <tr>\n",
       "      <th>4</th>\n",
       "      <td>0.024645</td>\n",
       "      <td>0.808515</td>\n",
       "    </tr>\n",
       "  </tbody>\n",
       "</table>\n",
       "</div>"
      ],
      "text/plain": [
       "          x         y\n",
       "0  0.006799  0.225260\n",
       "1  0.014164  0.455183\n",
       "2  0.004249  0.186836\n",
       "3  0.010764  0.358671\n",
       "4  0.024645  0.808515"
      ]
     },
     "execution_count": 105,
     "metadata": {},
     "output_type": "execute_result"
    }
   ],
   "source": [
    "train_data.head()"
   ]
  },
  {
   "cell_type": "code",
   "execution_count": 106,
   "metadata": {},
   "outputs": [
    {
     "data": {
      "text/html": [
       "<div>\n",
       "<style scoped>\n",
       "    .dataframe tbody tr th:only-of-type {\n",
       "        vertical-align: middle;\n",
       "    }\n",
       "\n",
       "    .dataframe tbody tr th {\n",
       "        vertical-align: top;\n",
       "    }\n",
       "\n",
       "    .dataframe thead th {\n",
       "        text-align: right;\n",
       "    }\n",
       "</style>\n",
       "<table border=\"1\" class=\"dataframe\">\n",
       "  <thead>\n",
       "    <tr style=\"text-align: right;\">\n",
       "      <th></th>\n",
       "      <th>x</th>\n",
       "      <th>y</th>\n",
       "    </tr>\n",
       "  </thead>\n",
       "  <tbody>\n",
       "    <tr>\n",
       "      <th>count</th>\n",
       "      <td>700.000000</td>\n",
       "      <td>700.000000</td>\n",
       "    </tr>\n",
       "    <tr>\n",
       "      <th>mean</th>\n",
       "      <td>0.015576</td>\n",
       "      <td>0.477146</td>\n",
       "    </tr>\n",
       "    <tr>\n",
       "      <th>std</th>\n",
       "      <td>0.038152</td>\n",
       "      <td>0.258078</td>\n",
       "    </tr>\n",
       "    <tr>\n",
       "      <th>min</th>\n",
       "      <td>0.000000</td>\n",
       "      <td>0.000000</td>\n",
       "    </tr>\n",
       "    <tr>\n",
       "      <th>25%</th>\n",
       "      <td>0.007082</td>\n",
       "      <td>0.255748</td>\n",
       "    </tr>\n",
       "    <tr>\n",
       "      <th>50%</th>\n",
       "      <td>0.013880</td>\n",
       "      <td>0.469657</td>\n",
       "    </tr>\n",
       "    <tr>\n",
       "      <th>75%</th>\n",
       "      <td>0.021246</td>\n",
       "      <td>0.698425</td>\n",
       "    </tr>\n",
       "    <tr>\n",
       "      <th>max</th>\n",
       "      <td>1.000000</td>\n",
       "      <td>1.000000</td>\n",
       "    </tr>\n",
       "  </tbody>\n",
       "</table>\n",
       "</div>"
      ],
      "text/plain": [
       "                x           y\n",
       "count  700.000000  700.000000\n",
       "mean     0.015576    0.477146\n",
       "std      0.038152    0.258078\n",
       "min      0.000000    0.000000\n",
       "25%      0.007082    0.255748\n",
       "50%      0.013880    0.469657\n",
       "75%      0.021246    0.698425\n",
       "max      1.000000    1.000000"
      ]
     },
     "execution_count": 106,
     "metadata": {},
     "output_type": "execute_result"
    }
   ],
   "source": [
    "train_data.describe()"
   ]
  },
  {
   "cell_type": "code",
   "execution_count": 107,
   "metadata": {},
   "outputs": [
    {
     "data": {
      "text/plain": [
       "Index(['x', 'y'], dtype='object')"
      ]
     },
     "execution_count": 107,
     "metadata": {},
     "output_type": "execute_result"
    }
   ],
   "source": [
    "train_data.columns"
   ]
  },
  {
   "cell_type": "code",
   "execution_count": 108,
   "metadata": {},
   "outputs": [
    {
     "data": {
      "text/plain": [
       "x    float64\n",
       "y    float64\n",
       "dtype: object"
      ]
     },
     "execution_count": 108,
     "metadata": {},
     "output_type": "execute_result"
    }
   ],
   "source": [
    "train_data.dtypes"
   ]
  },
  {
   "cell_type": "code",
   "execution_count": 109,
   "metadata": {},
   "outputs": [
    {
     "data": {
      "text/plain": [
       "x    0\n",
       "y    0\n",
       "dtype: int64"
      ]
     },
     "execution_count": 109,
     "metadata": {},
     "output_type": "execute_result"
    }
   ],
   "source": [
    "# checking null values in dataset\n",
    "train_data.isnull().sum()"
   ]
  },
  {
   "cell_type": "code",
   "execution_count": 110,
   "metadata": {},
   "outputs": [
    {
     "data": {
      "text/plain": [
       "<matplotlib.axes._subplots.AxesSubplot at 0x7fa4e6d85b70>"
      ]
     },
     "execution_count": 110,
     "metadata": {},
     "output_type": "execute_result"
    },
    {
     "data": {
      "image/png": "[encoded data removed]",
      "text/plain": [
       "<Figure size 432x288 with 1 Axes>"
      ]
     },
     "metadata": {
      "needs_background": "light"
     },
     "output_type": "display_data"
    }
   ],
   "source": [
    "# boxplot to find the outliers  in train dataset\n",
    "sb.boxplot(data=train_data, palette='autumn')"
   ]
  },
  {
   "cell_type": "code",
   "execution_count": 111,
   "metadata": {},
   "outputs": [
    {
     "data": {
      "text/plain": [
       "<matplotlib.axes._subplots.AxesSubplot at 0x7fa4e645c668>"
      ]
     },
     "execution_count": 111,
     "metadata": {},
     "output_type": "execute_result"
    },
    {
     "data": {
      "image/png": "[encoded data removed]",
      "text/plain": [
       "<Figure size 432x288 with 1 Axes>"
      ]
     },
     "metadata": {
      "needs_background": "light"
     },
     "output_type": "display_data"
    }
   ],
   "source": [
    "sb.boxplot(data=test_data, palette='autumn')"
   ]
  },
  {
   "cell_type": "code",
   "execution_count": null,
   "metadata": {},
   "outputs": [],
   "source": []
  },
  {
   "cell_type": "code",
   "execution_count": 90,
   "metadata": {},
   "outputs": [
    {
     "data": {
      "text/plain": [
       "<matplotlib.axes._subplots.AxesSubplot at 0x7fa4ebdc4c50>"
      ]
     },
     "execution_count": 90,
     "metadata": {},
     "output_type": "execute_result"
    },
    {
     "data": {
      "image/png": "[encoded data removed]",
      "text/plain": [
       "<Figure size 432x288 with 1 Axes>"
      ]
     },
     "metadata": {
      "needs_background": "light"
     },
     "output_type": "display_data"
    }
   ],
   "source": [
    "# disploting the feature  variable\n",
    "sb.distplot(train_data['x'])"
   ]
  },
  {
   "cell_type": "code",
   "execution_count": 112,
   "metadata": {},
   "outputs": [
    {
     "data": {
      "text/plain": [
       "<matplotlib.axes._subplots.AxesSubplot at 0x7fa4e643ea20>"
      ]
     },
     "execution_count": 112,
     "metadata": {},
     "output_type": "execute_result"
    },
    {
     "data": {
      "image/png": "[encoded data removed]",
      "text/plain": [
       "<Figure size 432x288 with 1 Axes>"
      ]
     },
     "metadata": {
      "needs_background": "light"
     },
     "output_type": "display_data"
    }
   ],
   "source": [
    "# disploting the feature variable\n",
    "sb.distplot(train_data['y'])"
   ]
  },
  {
   "cell_type": "code",
   "execution_count": 116,
   "metadata": {},
   "outputs": [
    {
     "name": "stdout",
     "output_type": "stream",
     "text": [
      "Skewness is 26.455845292909284\n",
      "Mean is 0.001696090736471007 , Median is  0.00019266553288660863 \n",
      "which shows that column data are skewed data\n",
      "Right Skewed\n"
     ]
    },
    {
     "data": {
      "image/png": "[encoded data removed]",
      "text/plain": [
       "<Figure size 432x288 with 1 Axes>"
      ]
     },
     "metadata": {
      "needs_background": "light"
     },
     "output_type": "display_data"
    }
   ],
   "source": [
    "# feature variable\n",
    "target = (np.square((train_data['x'])))\n",
    "print ('Skewness is', target.skew())\n",
    "print(\"Mean is\",target.mean(), \", Median is \", target.median(), \"\\nwhich shows that column data are skewed data\")\n",
    "if target.mean()<target.median():\n",
    "    print(\"Left Skewed\")\n",
    "elif target.mean()>target.median():\n",
    "    print(\"Right Skewed\")\n",
    "else:\n",
    "    print(\"perfect(No skeweness)\")\n",
    "sb.distplot(target)\n",
    "train_data['x'] = target"
   ]
  },
  {
   "cell_type": "code",
   "execution_count": 115,
   "metadata": {},
   "outputs": [
    {
     "data": {
      "text/plain": [
       "<Figure size 432x288 with 0 Axes>"
      ]
     },
     "metadata": {},
     "output_type": "display_data"
    },
    {
     "data": {
      "image/png": "[encoded data removed]",
      "text/plain": [
       "<Figure size 360x1440 with 5 Axes>"
      ]
     },
     "metadata": {
      "needs_background": "light"
     },
     "output_type": "display_data"
    },
    {
     "name": "stdout",
     "output_type": "stream",
     "text": [
      "0.4569514074727778 1.0457947069652074\n"
     ]
    },
    {
     "data": {
      "image/png": "[encoded data removed]",
      "text/plain": [
       "<Figure size 432x288 with 1 Axes>"
      ]
     },
     "metadata": {
      "needs_background": "light"
     },
     "output_type": "display_data"
    },
    {
     "data": {
      "image/png": "[encoded data removed]",
      "text/plain": [
       "<Figure size 432x288 with 1 Axes>"
      ]
     },
     "metadata": {
      "needs_background": "light"
     },
     "output_type": "display_data"
    },
    {
     "name": "stdout",
     "output_type": "stream",
     "text": [
      "Accuracy: 82.69863404365103\n"
     ]
    }
   ],
   "source": [
    "# data preprocessing on given dataset\n",
    "import pandas as pd\n",
    "import numpy as np\n",
    "\n",
    "# load dataset\n",
    "train_data = pd.read_csv(\"train.csv\")\n",
    "test_data = pd.read_csv(\"test.csv\")\n",
    "\n",
    "class LinearRegression:\n",
    "    \n",
    "    def __init__(self):\n",
    "        self.learning_rate = 0.01\n",
    "        self.theta_0 = 0\n",
    "        self.theat_1 = 1\n",
    "        self.epoch = 10000\n",
    "    \n",
    "    \n",
    "# #         handle missing data\n",
    "    def handle_missing_data(self):\n",
    "        train_data.replace(np.NaN,train_data.mean(),inplace=True)\n",
    "        test_data.replace(np.NaN,test_data.mean(),inplace=True)\n",
    "        return  train_data,test_data\n",
    "       \n",
    "    def feature_scaling(self, dataset_train):\n",
    "#         normalization of dataset\n",
    "        for name in dataset_train.columns:\n",
    "#             dataset_train[name] = (dataset_train[name] - dataset_train[name].mean())/ np.nanstd(dataset_train[name])\n",
    "            dataset_train[name] = (dataset_train[name] - dataset_train[name].min()) / (dataset_train[name].max()-dataset_train[name].min())\n",
    "        return dataset_train\n",
    "\n",
    "    def gradient_descent(self,x_data,y_data):\n",
    "        fig = plt.figure()\n",
    "        fig, (ax0,ax1, ax2, ax3,ax4) = plt.subplots(nrows=5, ncols=1, figsize=(5, 20))\n",
    "        ax0.scatter(train_data.x,train_data.y, color='g')\n",
    "        \n",
    "        h1 = h2 =0\n",
    "        theta_0 = self.theta_0\n",
    "        theta_1 = self.theat_1\n",
    "        for i in  range(self.epoch):\n",
    "            for data  in range(len(x_data)):\n",
    "                hypo = theta_0 + (theta_1 * x_data[data])\n",
    "                h1 += (hypo - y_data[data])\n",
    "                h2 += ((hypo - y_data[data]) * x_data[data])\n",
    "#             temp_1 = (self.learning_rate * h1)\n",
    "#             temp_2 = (self.learning_rate * h2)\n",
    "            theta_0 = theta_0 - ((self.learning_rate * h1) / len(x_data))\n",
    "            theta_1 = theta_1 - ((self.learning_rate * h2) / len(x_data))\n",
    "            if(i%100==0):\n",
    "                ax1.plot(i,theta_0,marker='o',color='r')\n",
    "                ax1.set_title(\"Iteration vs weight\")\n",
    "                ax2.plot(i,theta_1,marker='x',color='g')\n",
    "                ax2.set_title(\"Iteration vs weight\")\n",
    "                \n",
    "               \n",
    "        ax0.plot([-2,2],[(-2*theta_0)+theta_1,(2*theta_0)+theta_1], color=\"r\")\n",
    "        ax0.set_title('prediction line vs given data')\n",
    "        plt.subplots_adjust(hspace=1)\n",
    "        plt.show()\n",
    "        return theta_0,theta_1\n",
    "    \n",
    "    def test(self, x_test_data, theta_0, theta_1):\n",
    "        y_predict = [0]*len(x_test_data)\n",
    "        for i in range(len(x_test_data)):\n",
    "#             y_predict[i] = theta_1*x_test_data[i] + theta_0\n",
    "              y_predict[i] = (theta_0 + (theta_1*x_test_data[i]))\n",
    "        return y_predict\n",
    "\n",
    "    def accuracy(self, y_test_data, y_predicted):\n",
    "        diff = 0\n",
    "        for i in range(len(y_test_data)):\n",
    "            diff += abs((y_predicted[i] - y_test_data[i])/y_test_data[i])\n",
    "        diff  =  (diff/len(y_test_data))\n",
    "        data_accuracy = 1 - diff\n",
    "        return data_accuracy*100       \n",
    "    \n",
    "    \n",
    "\n",
    "def main():\n",
    "    obj =LinearRegression()\n",
    "#     handle missing values to get data clean\n",
    "    train_data, test_data = obj.handle_missing_data()\n",
    "    train_data = obj.feature_scaling(train_data)\n",
    "\n",
    "    x_train_data = np.array(train_data[\"x\"])\n",
    "    y_train_data = np.array(train_data[\"y\"])\n",
    "    \n",
    "    x_test_data = np.array(test_data[\"x\"])\n",
    "    y_test_data = np.array(test_data[\"y\"])\n",
    "    \n",
    "#     calculate gradient descent on train data for test data\n",
    "    theta_0, theta_1= obj.gradient_descent(x_train_data,y_train_data)\n",
    "    print(theta_0,theta_1)\n",
    "    \n",
    "#     test data over train data \n",
    "    y_prediction_test =obj.test(x_test_data,theta_0,theta_1)\n",
    "    y_prediction_train = obj.test(x_train_data,theta_0,theta_1)\n",
    "    \n",
    "#     get accuracy of predicted value to original value\n",
    "    accuracy = obj.accuracy(y_test_data,y_prediction_test)\n",
    "   \n",
    "    \n",
    "#     plotting test data set over prediction value\n",
    "    plt.scatter(x_test_data, y_test_data, color='b', label='Test Data Set')\n",
    "    plt.plot(x_test_data, y_prediction_test, color='r', label='Predicted Values')\n",
    "    plt.legend()\n",
    "    plt.show()\n",
    "\n",
    "#     plotting train data set over  prediction value\n",
    "    plt.scatter(x_train_data, y_train_data, color='b', label='Train Data Set')\n",
    "    plt.plot(x_train_data, y_prediction_train, color='r', label='Predicted Values')\n",
    "    plt.legend()\n",
    "    plt.show()\n",
    "    \n",
    "    print(\"Accuracy:\",accuracy)\n",
    "\n",
    "if __name__ == '__main__':\n",
    "    main()"
   ]
  },
  {
   "cell_type": "code",
   "execution_count": null,
   "metadata": {},
   "outputs": [],
   "source": []
  }
 ],
 "metadata": {
  "kernelspec": {
   "display_name": "Python 3",
   "language": "python",
   "name": "python3"
  },
  "language_info": {
   "codemirror_mode": {
    "name": "ipython",
    "version": 3
   },
   "file_extension": ".py",
   "mimetype": "text/x-python",
   "name": "python",
   "nbconvert_exporter": "python",
   "pygments_lexer": "ipython3",
   "version": "3.7.2"
  }
 },
 "nbformat": 4,
 "nbformat_minor": 2
}
