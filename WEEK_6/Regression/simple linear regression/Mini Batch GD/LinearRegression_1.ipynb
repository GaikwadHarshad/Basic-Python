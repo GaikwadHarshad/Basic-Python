{
 "cells": [
  {
   "cell_type": "code",
   "execution_count": 56,
   "metadata": {},
   "outputs": [],
   "source": [
    "import pandas as pd\n",
    "import numpy as np\n",
    "import matplotlib.pyplot as plt\n",
    "import seaborn as  sb\n",
    "%matplotlib inline\n",
    "import pandas.api.types as  ptypes"
   ]
  },
  {
   "cell_type": "code",
   "execution_count": 57,
   "metadata": {},
   "outputs": [],
   "source": [
    "# read csv file\n",
    "train_data = pd.read_csv(\"train.csv\")\n",
    "test_data = pd.read_csv(\"test.csv\")"
   ]
  },
  {
   "cell_type": "code",
   "execution_count": 58,
   "metadata": {},
   "outputs": [
    {
     "data": {
      "text/html": [
       "<div>\n",
       "<style scoped>\n",
       "    .dataframe tbody tr th:only-of-type {\n",
       "        vertical-align: middle;\n",
       "    }\n",
       "\n",
       "    .dataframe tbody tr th {\n",
       "        vertical-align: top;\n",
       "    }\n",
       "\n",
       "    .dataframe thead th {\n",
       "        text-align: right;\n",
       "    }\n",
       "</style>\n",
       "<table border=\"1\" class=\"dataframe\">\n",
       "  <thead>\n",
       "    <tr style=\"text-align: right;\">\n",
       "      <th></th>\n",
       "      <th>x</th>\n",
       "      <th>y</th>\n",
       "    </tr>\n",
       "  </thead>\n",
       "  <tbody>\n",
       "    <tr>\n",
       "      <th>0</th>\n",
       "      <td>24.0</td>\n",
       "      <td>21.549452</td>\n",
       "    </tr>\n",
       "    <tr>\n",
       "      <th>1</th>\n",
       "      <td>50.0</td>\n",
       "      <td>47.464463</td>\n",
       "    </tr>\n",
       "    <tr>\n",
       "      <th>2</th>\n",
       "      <td>15.0</td>\n",
       "      <td>17.218656</td>\n",
       "    </tr>\n",
       "    <tr>\n",
       "      <th>3</th>\n",
       "      <td>38.0</td>\n",
       "      <td>36.586398</td>\n",
       "    </tr>\n",
       "    <tr>\n",
       "      <th>4</th>\n",
       "      <td>87.0</td>\n",
       "      <td>87.288984</td>\n",
       "    </tr>\n",
       "  </tbody>\n",
       "</table>\n",
       "</div>"
      ],
      "text/plain": [
       "      x          y\n",
       "0  24.0  21.549452\n",
       "1  50.0  47.464463\n",
       "2  15.0  17.218656\n",
       "3  38.0  36.586398\n",
       "4  87.0  87.288984"
      ]
     },
     "execution_count": 58,
     "metadata": {},
     "output_type": "execute_result"
    }
   ],
   "source": [
    "train_data.head()"
   ]
  },
  {
   "cell_type": "code",
   "execution_count": 59,
   "metadata": {},
   "outputs": [
    {
     "data": {
      "text/html": [
       "<div>\n",
       "<style scoped>\n",
       "    .dataframe tbody tr th:only-of-type {\n",
       "        vertical-align: middle;\n",
       "    }\n",
       "\n",
       "    .dataframe tbody tr th {\n",
       "        vertical-align: top;\n",
       "    }\n",
       "\n",
       "    .dataframe thead th {\n",
       "        text-align: right;\n",
       "    }\n",
       "</style>\n",
       "<table border=\"1\" class=\"dataframe\">\n",
       "  <thead>\n",
       "    <tr style=\"text-align: right;\">\n",
       "      <th></th>\n",
       "      <th>x</th>\n",
       "      <th>y</th>\n",
       "    </tr>\n",
       "  </thead>\n",
       "  <tbody>\n",
       "    <tr>\n",
       "      <th>count</th>\n",
       "      <td>700.000000</td>\n",
       "      <td>699.000000</td>\n",
       "    </tr>\n",
       "    <tr>\n",
       "      <th>mean</th>\n",
       "      <td>54.985939</td>\n",
       "      <td>49.939869</td>\n",
       "    </tr>\n",
       "    <tr>\n",
       "      <th>std</th>\n",
       "      <td>134.681703</td>\n",
       "      <td>29.109217</td>\n",
       "    </tr>\n",
       "    <tr>\n",
       "      <th>min</th>\n",
       "      <td>0.000000</td>\n",
       "      <td>-3.839981</td>\n",
       "    </tr>\n",
       "    <tr>\n",
       "      <th>25%</th>\n",
       "      <td>25.000000</td>\n",
       "      <td>24.929968</td>\n",
       "    </tr>\n",
       "    <tr>\n",
       "      <th>50%</th>\n",
       "      <td>49.000000</td>\n",
       "      <td>48.973020</td>\n",
       "    </tr>\n",
       "    <tr>\n",
       "      <th>75%</th>\n",
       "      <td>75.000000</td>\n",
       "      <td>74.929911</td>\n",
       "    </tr>\n",
       "    <tr>\n",
       "      <th>max</th>\n",
       "      <td>3530.157369</td>\n",
       "      <td>108.871618</td>\n",
       "    </tr>\n",
       "  </tbody>\n",
       "</table>\n",
       "</div>"
      ],
      "text/plain": [
       "                 x           y\n",
       "count   700.000000  699.000000\n",
       "mean     54.985939   49.939869\n",
       "std     134.681703   29.109217\n",
       "min       0.000000   -3.839981\n",
       "25%      25.000000   24.929968\n",
       "50%      49.000000   48.973020\n",
       "75%      75.000000   74.929911\n",
       "max    3530.157369  108.871618"
      ]
     },
     "execution_count": 59,
     "metadata": {},
     "output_type": "execute_result"
    }
   ],
   "source": [
    "train_data.describe()"
   ]
  },
  {
   "cell_type": "code",
   "execution_count": 60,
   "metadata": {},
   "outputs": [
    {
     "data": {
      "text/plain": [
       "Index(['x', 'y'], dtype='object')"
      ]
     },
     "execution_count": 60,
     "metadata": {},
     "output_type": "execute_result"
    }
   ],
   "source": [
    "train_data.columns"
   ]
  },
  {
   "cell_type": "code",
   "execution_count": 61,
   "metadata": {},
   "outputs": [
    {
     "data": {
      "text/plain": [
       "x    float64\n",
       "y    float64\n",
       "dtype: object"
      ]
     },
     "execution_count": 61,
     "metadata": {},
     "output_type": "execute_result"
    }
   ],
   "source": [
    "train_data.dtypes"
   ]
  },
  {
   "cell_type": "code",
   "execution_count": 62,
   "metadata": {},
   "outputs": [
    {
     "data": {
      "text/plain": [
       "x    0\n",
       "y    1\n",
       "dtype: int64"
      ]
     },
     "execution_count": 62,
     "metadata": {},
     "output_type": "execute_result"
    }
   ],
   "source": [
    "# checking null values in dataset\n",
    "train_data.isnull().sum()"
   ]
  },
  {
   "cell_type": "code",
   "execution_count": 63,
   "metadata": {},
   "outputs": [
    {
     "data": {
      "text/plain": [
       "<matplotlib.axes._subplots.AxesSubplot at 0x7fe701079ba8>"
      ]
     },
     "execution_count": 63,
     "metadata": {},
     "output_type": "execute_result"
    },
    {
     "data": {
      "image/png": "[encoded data removed]",
      "text/plain": [
       "<Figure size 432x288 with 1 Axes>"
      ]
     },
     "metadata": {
      "needs_background": "light"
     },
     "output_type": "display_data"
    }
   ],
   "source": [
    "# boxplot to find the outliers  in train dataset\n",
    "sb.boxplot(data=train_data, palette='autumn')"
   ]
  },
  {
   "cell_type": "code",
   "execution_count": 64,
   "metadata": {},
   "outputs": [
    {
     "data": {
      "text/plain": [
       "<matplotlib.axes._subplots.AxesSubplot at 0x7fe706f56c88>"
      ]
     },
     "execution_count": 64,
     "metadata": {},
     "output_type": "execute_result"
    },
    {
     "data": {
      "image/png": "[encoded data removed]",
      "text/plain": [
       "<Figure size 432x288 with 1 Axes>"
      ]
     },
     "metadata": {
      "needs_background": "light"
     },
     "output_type": "display_data"
    }
   ],
   "source": [
    "sb.boxplot(data=test_data, palette='autumn')"
   ]
  },
  {
   "cell_type": "code",
   "execution_count": null,
   "metadata": {},
   "outputs": [],
   "source": []
  },
  {
   "cell_type": "code",
   "execution_count": 65,
   "metadata": {},
   "outputs": [
    {
     "name": "stdout",
     "output_type": "stream",
     "text": [
      "Skewness is 26.455845292909274\n",
      "Mean is 21136.701501578937 , Median is  2401.0 \n",
      "which shows that column data are skewed data\n",
      "Right Skewed\n"
     ]
    },
    {
     "data": {
      "image/png": "[encoded data removed]",
      "text/plain": [
       "<Figure size 432x288 with 1 Axes>"
      ]
     },
     "metadata": {
      "needs_background": "light"
     },
     "output_type": "display_data"
    }
   ],
   "source": [
    "# feature variable\n",
    "target = (np.square((train_data['x'])))\n",
    "print ('Skewness is', target.skew())\n",
    "print(\"Mean is\",target.mean(), \", Median is \", target.median(), \"\\nwhich shows that column data are skewed data\")\n",
    "if target.mean()<target.median():\n",
    "    print(\"Left Skewed\")\n",
    "elif target.mean()>target.median():\n",
    "    print(\"Right Skewed\")\n",
    "else:\n",
    "    print(\"perfect(No skeweness)\")\n",
    "sb.distplot(target)\n",
    "train_data['x'] = target"
   ]
  },
  {
   "cell_type": "code",
   "execution_count": 123,
   "metadata": {},
   "outputs": [
    {
     "name": "stdout",
     "output_type": "stream",
     "text": [
      "x data: (611,)\n"
     ]
    },
    {
     "data": {
      "text/plain": [
       "<Figure size 432x288 with 0 Axes>"
      ]
     },
     "metadata": {},
     "output_type": "display_data"
    },
    {
     "data": {
      "image/png": "[encoded data removed]",
      "text/plain": [
       "<Figure size 360x1440 with 4 Axes>"
      ]
     },
     "metadata": {
      "needs_background": "light"
     },
     "output_type": "display_data"
    },
    {
     "name": "stdout",
     "output_type": "stream",
     "text": [
      "iteration = 260 and cost function = 4.3386868683394736e-05\n",
      "0.09861933932935567 0.9989228072136427\n"
     ]
    },
    {
     "name": "stderr",
     "output_type": "stream",
     "text": [
      "/home/admin1/Downloads/Enter/envs/my_env/lib/python3.7/site-packages/ipykernel_launcher.py:108: RuntimeWarning: divide by zero encountered in double_scalars\n"
     ]
    },
    {
     "data": {
      "image/png": "[encoded data removed]",
      "text/plain": [
       "<Figure size 432x288 with 1 Axes>"
      ]
     },
     "metadata": {
      "needs_background": "light"
     },
     "output_type": "display_data"
    },
    {
     "data": {
      "image/png": "[encoded data removed]",
      "text/plain": [
       "<Figure size 432x288 with 1 Axes>"
      ]
     },
     "metadata": {
      "needs_background": "light"
     },
     "output_type": "display_data"
    },
    {
     "name": "stdout",
     "output_type": "stream",
     "text": [
      "Accuracy  Test: 85.90910979125363\n",
      "Accuracy Train: -inf\n"
     ]
    }
   ],
   "source": [
    "# data preprocessing on given dataset\n",
    "import pandas as pd\n",
    "import numpy as np\n",
    "\n",
    "# load dataset\n",
    "train_data = pd.read_csv(\"train.csv\")\n",
    "test_data = pd.read_csv(\"test.csv\")\n",
    "\n",
    "class LinearRegression:\n",
    "    \n",
    "    def __init__(self):\n",
    "        self.learning_rate = 0.001\n",
    "        self.theta_0 = 0.1\n",
    "        self.theat_1 = 1\n",
    "        self.epoch = 10000\n",
    "        self.batch_size=100\n",
    "    \n",
    "# #         handle missing data\n",
    "    def handle_missing_data(self):\n",
    "        train_data.replace(np.NaN,train_data.mean(),inplace=True)\n",
    "        test_data.replace(np.NaN,test_data.mean(),inplace=True)\n",
    "        return  train_data,test_data\n",
    "    \n",
    "#    check and remove outliers\n",
    "    def remove_outlier(self,dataset):\n",
    "        low = .05\n",
    "        high = .95\n",
    "        quant_dataset = dataset.quantile([low, high])\n",
    "        for name in list(dataset.columns):\n",
    "            if ptypes.is_numeric_dtype(dataset[name]):\n",
    "                dataset = dataset[(dataset[name] > quant_dataset.loc[low, name]) & (dataset[name] < quant_dataset.loc[high, name])]\n",
    "        return dataset\n",
    "    \n",
    "\n",
    "#   normalization of dataset\n",
    "    def feature_scaling(self, dataset_train):\n",
    "        for name in dataset_train.columns:\n",
    "            dataset_train[name] = (dataset_train[name] - dataset_train[name].min()) / (dataset_train[name].max()-dataset_train[name].min())\n",
    "        return dataset_train\n",
    "\n",
    "#     gradient and descent\n",
    "    def gradient_descent(self,x_data,y_data):\n",
    "        h1 = h2 =0\n",
    "        theta_0 = self.theta_0\n",
    "        theta_1 = self.theat_1\n",
    "        cost = 0\n",
    "        h1 = 0.0\n",
    "        h2 = 0.0\n",
    "        cost_temp = 0.0\n",
    "        fig = plt.figure()\n",
    "        fig, (ax1, ax2, ax3,ax4) = plt.subplots(nrows=4, ncols=1, figsize=(5, 20))\n",
    "        print(\"x data:\",x_data.shape)\n",
    "#       iteration  to get  miminal cost\n",
    "        for i in  range(self.epoch):\n",
    "            cost = 0\n",
    "            h1 = 0.0\n",
    "            h2 = 0.0\n",
    "            cost_temp = 0.0\n",
    "#             batch_size = len(x_data)/100\n",
    "         \n",
    "        \n",
    "#           calculating hypothesis and cost function \n",
    "            for data in range(round(len(x_data)/50)):\n",
    "#                 for data in range(0,100):\n",
    "                np.random.shuffle(x_data)\n",
    "#                 for  data in range(round(len(x_data)/10)):\n",
    "                hypo = theta_0 + (theta_1 * x_data[data])\n",
    "                h1 += (hypo - y_data[data])\n",
    "                h2 += ((hypo - y_data[data]) * x_data[data])\n",
    "\n",
    "                cost += hypo - y_data[data]\n",
    "\n",
    "#           getting minimum cost  function\n",
    "            cost_temp +=(hypo - y_data[data]) ** 2 \n",
    "            cost = (1/2 * len(x_data))* cost_temp\n",
    "            theta_0 = theta_0 - ((self.learning_rate * h1) / len(x_data))\n",
    "            theta_1 = theta_1 - ((self.learning_rate * h2) / len(x_data))\n",
    "\n",
    "#           ploting graphs  on each 50 epochs \n",
    "            if(i%50 == 0):\n",
    "               ax1.plot(i,theta_0,marker='o',color='r')\n",
    "               ax1.set_title('iteration vs theta 0')\n",
    "               ax2.plot(i,theta_1,marker='8',color='g')\n",
    "               ax2.set_title('iteration vs theta 1')\n",
    "               ax3.plot(i,cost,marker='*',color='b')\n",
    "               ax3.set_title('iteration vs cost')\n",
    "               ax4.plot(theta_0,theta_1,marker = 'x', color='black')\n",
    "               ax4.set_title('theta_0 vs theta_1')\n",
    "            if(cost<=0.00009): \n",
    "                break\n",
    "\n",
    "        plt.subplots_adjust(hspace=1)\n",
    "        plt.show()\n",
    "        print(\"iteration = {} and cost function = {}\".format(i, cost))\n",
    "        return theta_0,theta_1\n",
    "    \n",
    "#   perform testing dataset\n",
    "    def test(self, x_test_data, theta_0, theta_1):\n",
    "        y_predict = [0]*len(x_test_data)\n",
    "        for i in range(len(x_test_data)):\n",
    "              y_predict[i] = (theta_0 + (theta_1*x_test_data[i]))\n",
    "        return y_predict\n",
    "\n",
    "#     calculating accuracy over  tested dataset\n",
    "    def accuracy(self, y_test_data, y_predicted):\n",
    "        diff = 0\n",
    "        for i in range(1,len(y_test_data)):\n",
    "            diff += abs((y_predicted[i] - y_test_data[i])/y_test_data[i])\n",
    "        diff  =  (diff/len(y_test_data))\n",
    "        data_accuracy = 1 - diff\n",
    "        return data_accuracy*100       \n",
    "    \n",
    "    \n",
    "\n",
    "def main():\n",
    "    obj =LinearRegression()\n",
    "    \n",
    "#     handle missing values to get data clean\n",
    "    train_data, test_data = obj.handle_missing_data()\n",
    "#     removing outliers from train data\n",
    "    train_data = obj.remove_outlier(train_data)\n",
    "#     feature scaling on train data\n",
    "    train_data = obj.feature_scaling(train_data)\n",
    "\n",
    "#     converting dataset into  array\n",
    "    x_train_data = np.array(train_data[\"x\"])\n",
    "    y_train_data = np.array(train_data[\"y\"])\n",
    "    \n",
    "    x_test_data = np.array(test_data[\"x\"])\n",
    "    y_test_data = np.array(test_data[\"y\"])\n",
    "    \n",
    "#     calculate gradient descent on train data for test\n",
    "    theta_0, theta_1= obj.gradient_descent(x_train_data,y_train_data)\n",
    "    print(theta_0,theta_1)\n",
    "    \n",
    "#     test data over train data \n",
    "    y_prediction_test =obj.test(x_test_data,theta_0,theta_1)\n",
    "    y_prediction_train = obj.test(x_train_data,theta_0,theta_1)\n",
    "    \n",
    "#     get accuracy of predicted value to original value\n",
    "    accuracy_test = obj.accuracy(y_test_data,y_prediction_test)\n",
    "    accuracy_train = obj.accuracy(y_train_data,y_prediction_train)\n",
    "    \n",
    "#     plotting test data set over prediction value\n",
    "    plt.scatter(x_test_data, y_test_data, color='b', label='Test Data Set')\n",
    "    plt.plot(x_test_data, y_prediction_test, color='r', label='Predicted Values')\n",
    "    plt.legend()\n",
    "    plt.show()\n",
    "\n",
    "#     plotting train data set over  prediction value\n",
    "    plt.scatter(x_train_data, y_train_data, color='g', label='Train Data Set')\n",
    "    plt.plot(x_train_data, y_prediction_train, color='r', label='Predicted Values')\n",
    "    plt.legend()\n",
    "    plt.show()\n",
    "    \n",
    "#     display accuracy\n",
    "    print(\"Accuracy  Test:\",accuracy_test)\n",
    "    print(\"Accuracy Train:\",  accuracy_train)\n",
    "\n",
    "if __name__ == '__main__':\n",
    "    main()"
   ]
  },
  {
   "cell_type": "code",
   "execution_count": null,
   "metadata": {},
   "outputs": [],
   "source": []
  },
  {
   "cell_type": "code",
   "execution_count": null,
   "metadata": {},
   "outputs": [],
   "source": []
  },
  {
   "cell_type": "code",
   "execution_count": null,
   "metadata": {},
   "outputs": [],
   "source": []
  }
 ],
 "metadata": {
  "kernelspec": {
   "display_name": "Python 3",
   "language": "python",
   "name": "python3"
  },
  "language_info": {
   "codemirror_mode": {
    "name": "ipython",
    "version": 3
   },
   "file_extension": ".py",
   "mimetype": "text/x-python",
   "name": "python",
   "nbconvert_exporter": "python",
   "pygments_lexer": "ipython3",
   "version": "3.7.2"
  }
 },
 "nbformat": 4,
 "nbformat_minor": 2
}
